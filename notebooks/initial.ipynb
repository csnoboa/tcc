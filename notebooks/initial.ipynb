{
 "cells": [
  {
   "cell_type": "code",
   "execution_count": 1,
   "metadata": {},
   "outputs": [],
   "source": [
    "import geopandas as gpd\n",
    "import matplotlib.pyplot as plt\n",
    "import pandas as pd\n",
    "from datetime import datetime, timedelta"
   ]
  },
  {
   "cell_type": "code",
   "execution_count": 2,
   "metadata": {},
   "outputs": [],
   "source": [
    "df_places = gpd.read_file('../dados/hex8_data_geometry_curitiba3.geojson')\n",
    "df_interpolados = pd.read_csv(\"../dados/dados interpolados anos.csv\")\n"
   ]
  },
  {
   "cell_type": "code",
   "execution_count": 3,
   "metadata": {},
   "outputs": [
    {
     "name": "stderr",
     "output_type": "stream",
     "text": [
      "/var/folders/ld/8dhf4gy93xbd1ybmf6nljm38dn1p1r/T/ipykernel_25177/1337249125.py:1: UserWarning: Geometry is in a geographic CRS. Results from 'centroid' are likely incorrect. Use 'GeoSeries.to_crs()' to re-project geometries to a projected CRS before this operation.\n",
      "\n",
      "  print(df_places.centroid.x, df_places.centroid.y)\n",
      "/var/folders/ld/8dhf4gy93xbd1ybmf6nljm38dn1p1r/T/ipykernel_25177/1337249125.py:1: UserWarning: Geometry is in a geographic CRS. Results from 'centroid' are likely incorrect. Use 'GeoSeries.to_crs()' to re-project geometries to a projected CRS before this operation.\n",
      "\n",
      "  print(df_places.centroid.x, df_places.centroid.y)\n",
      "/var/folders/ld/8dhf4gy93xbd1ybmf6nljm38dn1p1r/T/ipykernel_25177/1337249125.py:2: UserWarning: Geometry is in a geographic CRS. Results from 'centroid' are likely incorrect. Use 'GeoSeries.to_crs()' to re-project geometries to a projected CRS before this operation.\n",
      "\n",
      "  df_places[\"lat\"] = df_places.centroid.x\n",
      "/var/folders/ld/8dhf4gy93xbd1ybmf6nljm38dn1p1r/T/ipykernel_25177/1337249125.py:3: UserWarning: Geometry is in a geographic CRS. Results from 'centroid' are likely incorrect. Use 'GeoSeries.to_crs()' to re-project geometries to a projected CRS before this operation.\n",
      "\n",
      "  df_places[\"long\"] = df_places.centroid.y\n"
     ]
    },
    {
     "name": "stdout",
     "output_type": "stream",
     "text": [
      "0     -49.275416\n",
      "1     -49.257088\n",
      "2     -49.266252\n",
      "3     -49.269547\n",
      "4     -49.251219\n",
      "         ...    \n",
      "879   -49.345733\n",
      "880   -49.354895\n",
      "881   -49.336570\n",
      "882   -49.358189\n",
      "883   -49.327407\n",
      "Length: 884, dtype: float64 0     -25.533110\n",
      "1     -25.531334\n",
      "2     -25.532222\n",
      "3     -25.539459\n",
      "4     -25.537683\n",
      "         ...    \n",
      "879   -25.629754\n",
      "880   -25.630633\n",
      "881   -25.628874\n",
      "882   -25.637856\n",
      "883   -25.627993\n",
      "Length: 884, dtype: float64\n"
     ]
    }
   ],
   "source": [
    "print(df_places.centroid.x, df_places.centroid.y)\n",
    "df_places[\"lat\"] = df_places.centroid.x\n",
    "df_places[\"long\"] = df_places.centroid.y"
   ]
  },
  {
   "cell_type": "code",
   "execution_count": 4,
   "metadata": {},
   "outputs": [
    {
     "name": "stdout",
     "output_type": "stream",
     "text": [
      "<class 'geopandas.geodataframe.GeoDataFrame'>\n",
      "RangeIndex: 884 entries, 0 to 883\n",
      "Data columns (total 7 columns):\n",
      " #   Column    Non-Null Count  Dtype         \n",
      "---  ------    --------------  -----         \n",
      " 0   date      884 non-null    datetime64[ns]\n",
      " 1   score     884 non-null    int64         \n",
      " 2   hex       884 non-null    object        \n",
      " 3   NOME      884 non-null    object        \n",
      " 4   geometry  884 non-null    geometry      \n",
      " 5   lat       884 non-null    float64       \n",
      " 6   long      884 non-null    float64       \n",
      "dtypes: datetime64[ns](1), float64(2), geometry(1), int64(1), object(2)\n",
      "memory usage: 48.5+ KB\n"
     ]
    }
   ],
   "source": [
    "df_places['date']= pd.to_datetime(df_places['date'])\n",
    "df_places.info()"
   ]
  },
  {
   "cell_type": "code",
   "execution_count": 5,
   "metadata": {},
   "outputs": [
    {
     "name": "stdout",
     "output_type": "stream",
     "text": [
      "<class 'geopandas.geodataframe.GeoDataFrame'>\n",
      "Int64Index: 617 entries, 0 to 883\n",
      "Data columns (total 5 columns):\n",
      " #   Column    Non-Null Count  Dtype   \n",
      "---  ------    --------------  -----   \n",
      " 0   hex       617 non-null    object  \n",
      " 1   NOME      617 non-null    object  \n",
      " 2   geometry  617 non-null    geometry\n",
      " 3   lat       617 non-null    float64 \n",
      " 4   long      617 non-null    float64 \n",
      "dtypes: float64(2), geometry(1), object(2)\n",
      "memory usage: 28.9+ KB\n"
     ]
    }
   ],
   "source": [
    "df_places = df_places.drop(columns = 'score')\n",
    "df_places = df_places.drop(columns = 'date')\n",
    "df_places = df_places.drop_duplicates()\n",
    "df_places.info()"
   ]
  },
  {
   "cell_type": "code",
   "execution_count": 6,
   "metadata": {},
   "outputs": [
    {
     "name": "stdout",
     "output_type": "stream",
     "text": [
      "<class 'pandas.core.frame.DataFrame'>\n",
      "RangeIndex: 16229568 entries, 0 to 16229567\n",
      "Data columns (total 4 columns):\n",
      " #   Column       Dtype  \n",
      "---  ------       -----  \n",
      " 0   dataHora     object \n",
      " 1   valorMedido  float64\n",
      " 2   latitude     float64\n",
      " 3   longitude    float64\n",
      "dtypes: float64(3), object(1)\n",
      "memory usage: 495.3+ MB\n"
     ]
    }
   ],
   "source": [
    "df_interpolados.info()"
   ]
  },
  {
   "cell_type": "code",
   "execution_count": 7,
   "metadata": {},
   "outputs": [
    {
     "data": {
      "text/html": [
       "<div>\n",
       "<style scoped>\n",
       "    .dataframe tbody tr th:only-of-type {\n",
       "        vertical-align: middle;\n",
       "    }\n",
       "\n",
       "    .dataframe tbody tr th {\n",
       "        vertical-align: top;\n",
       "    }\n",
       "\n",
       "    .dataframe thead th {\n",
       "        text-align: right;\n",
       "    }\n",
       "</style>\n",
       "<table border=\"1\" class=\"dataframe\">\n",
       "  <thead>\n",
       "    <tr style=\"text-align: right;\">\n",
       "      <th></th>\n",
       "      <th>valorMedido</th>\n",
       "      <th>latitude</th>\n",
       "      <th>longitude</th>\n",
       "      <th>date</th>\n",
       "    </tr>\n",
       "  </thead>\n",
       "  <tbody>\n",
       "    <tr>\n",
       "      <th>0</th>\n",
       "      <td>0.0</td>\n",
       "      <td>-49.387605</td>\n",
       "      <td>-25.433210</td>\n",
       "      <td>2015-01-01</td>\n",
       "    </tr>\n",
       "    <tr>\n",
       "      <th>1</th>\n",
       "      <td>0.0</td>\n",
       "      <td>-49.385034</td>\n",
       "      <td>-25.446811</td>\n",
       "      <td>2015-01-01</td>\n",
       "    </tr>\n",
       "    <tr>\n",
       "      <th>2</th>\n",
       "      <td>0.0</td>\n",
       "      <td>-49.384311</td>\n",
       "      <td>-25.425967</td>\n",
       "      <td>2015-01-01</td>\n",
       "    </tr>\n",
       "    <tr>\n",
       "      <th>3</th>\n",
       "      <td>0.0</td>\n",
       "      <td>-49.383186</td>\n",
       "      <td>-25.481245</td>\n",
       "      <td>2015-01-01</td>\n",
       "    </tr>\n",
       "    <tr>\n",
       "      <th>4</th>\n",
       "      <td>0.0</td>\n",
       "      <td>-49.382463</td>\n",
       "      <td>-25.460410</td>\n",
       "      <td>2015-01-01</td>\n",
       "    </tr>\n",
       "  </tbody>\n",
       "</table>\n",
       "</div>"
      ],
      "text/plain": [
       "   valorMedido   latitude  longitude       date\n",
       "0          0.0 -49.387605 -25.433210 2015-01-01\n",
       "1          0.0 -49.385034 -25.446811 2015-01-01\n",
       "2          0.0 -49.384311 -25.425967 2015-01-01\n",
       "3          0.0 -49.383186 -25.481245 2015-01-01\n",
       "4          0.0 -49.382463 -25.460410 2015-01-01"
      ]
     },
     "execution_count": 7,
     "metadata": {},
     "output_type": "execute_result"
    }
   ],
   "source": [
    "# df_interpolados = df_interpolados.drop(columns = 'Unnamed: 0')\n",
    "df_interpolados['date']= pd.to_datetime(df_interpolados['dataHora'])\n",
    "df_interpolados = df_interpolados.drop(columns = 'dataHora')\n",
    "df_interpolados.head()"
   ]
  },
  {
   "cell_type": "code",
   "execution_count": 8,
   "metadata": {},
   "outputs": [
    {
     "data": {
      "text/html": [
       "<div>\n",
       "<style scoped>\n",
       "    .dataframe tbody tr th:only-of-type {\n",
       "        vertical-align: middle;\n",
       "    }\n",
       "\n",
       "    .dataframe tbody tr th {\n",
       "        vertical-align: top;\n",
       "    }\n",
       "\n",
       "    .dataframe thead th {\n",
       "        text-align: right;\n",
       "    }\n",
       "</style>\n",
       "<table border=\"1\" class=\"dataframe\">\n",
       "  <thead>\n",
       "    <tr style=\"text-align: right;\">\n",
       "      <th></th>\n",
       "      <th>valorMedido</th>\n",
       "      <th>latitude</th>\n",
       "      <th>longitude</th>\n",
       "      <th>date</th>\n",
       "    </tr>\n",
       "  </thead>\n",
       "  <tbody>\n",
       "    <tr>\n",
       "      <th>0</th>\n",
       "      <td>0.0</td>\n",
       "      <td>-49.387605</td>\n",
       "      <td>-25.433210</td>\n",
       "      <td>2015-01-01</td>\n",
       "    </tr>\n",
       "    <tr>\n",
       "      <th>1</th>\n",
       "      <td>0.0</td>\n",
       "      <td>-49.385034</td>\n",
       "      <td>-25.446811</td>\n",
       "      <td>2015-01-01</td>\n",
       "    </tr>\n",
       "    <tr>\n",
       "      <th>2</th>\n",
       "      <td>0.0</td>\n",
       "      <td>-49.384311</td>\n",
       "      <td>-25.425967</td>\n",
       "      <td>2015-01-01</td>\n",
       "    </tr>\n",
       "    <tr>\n",
       "      <th>3</th>\n",
       "      <td>0.0</td>\n",
       "      <td>-49.383186</td>\n",
       "      <td>-25.481245</td>\n",
       "      <td>2015-01-01</td>\n",
       "    </tr>\n",
       "    <tr>\n",
       "      <th>4</th>\n",
       "      <td>0.0</td>\n",
       "      <td>-49.382463</td>\n",
       "      <td>-25.460410</td>\n",
       "      <td>2015-01-01</td>\n",
       "    </tr>\n",
       "  </tbody>\n",
       "</table>\n",
       "</div>"
      ],
      "text/plain": [
       "   valorMedido   latitude  longitude       date\n",
       "0          0.0 -49.387605 -25.433210 2015-01-01\n",
       "1          0.0 -49.385034 -25.446811 2015-01-01\n",
       "2          0.0 -49.384311 -25.425967 2015-01-01\n",
       "3          0.0 -49.383186 -25.481245 2015-01-01\n",
       "4          0.0 -49.382463 -25.460410 2015-01-01"
      ]
     },
     "execution_count": 8,
     "metadata": {},
     "output_type": "execute_result"
    }
   ],
   "source": [
    "df_interpolados.loc[df_interpolados[\"valorMedido\"] == -1, \"valorMedido\"] = \"0\"\n",
    "# df_merged[\"valorMedido\"] = df_merged[\"valorMedido\"]\n",
    "# df_interpolados['valorMedido'] = df_interpolados['valorMedido'].str.replace('[','')\n",
    "# df_interpolados['valorMedido'] = df_interpolados['valorMedido'].str.replace(']','')\n",
    "df_interpolados[\"valorMedido\"] = pd.to_numeric(df_interpolados[\"valorMedido\"])\n",
    "\n",
    "df_interpolados.head()"
   ]
  },
  {
   "cell_type": "code",
   "execution_count": 9,
   "metadata": {},
   "outputs": [
    {
     "name": "stdout",
     "output_type": "stream",
     "text": [
      "<class 'pandas.core.frame.DataFrame'>\n",
      "RangeIndex: 16229568 entries, 0 to 16229567\n",
      "Data columns (total 4 columns):\n",
      " #   Column       Dtype         \n",
      "---  ------       -----         \n",
      " 0   valorMedido  float64       \n",
      " 1   latitude     float64       \n",
      " 2   longitude    float64       \n",
      " 3   date         datetime64[ns]\n",
      "dtypes: datetime64[ns](1), float64(3)\n",
      "memory usage: 495.3 MB\n"
     ]
    }
   ],
   "source": [
    "df_interpolados.info()"
   ]
  },
  {
   "cell_type": "code",
   "execution_count": 10,
   "metadata": {},
   "outputs": [],
   "source": [
    "df_interpolados_sum = df_interpolados.groupby([\"latitude\", \"longitude\", pd.PeriodIndex(df_interpolados['date'], freq=\"D\")])['valorMedido'].sum().reset_index()"
   ]
  },
  {
   "cell_type": "code",
   "execution_count": 11,
   "metadata": {},
   "outputs": [
    {
     "data": {
      "text/html": [
       "<div>\n",
       "<style scoped>\n",
       "    .dataframe tbody tr th:only-of-type {\n",
       "        vertical-align: middle;\n",
       "    }\n",
       "\n",
       "    .dataframe tbody tr th {\n",
       "        vertical-align: top;\n",
       "    }\n",
       "\n",
       "    .dataframe thead th {\n",
       "        text-align: right;\n",
       "    }\n",
       "</style>\n",
       "<table border=\"1\" class=\"dataframe\">\n",
       "  <thead>\n",
       "    <tr style=\"text-align: right;\">\n",
       "      <th></th>\n",
       "      <th>hex</th>\n",
       "      <th>NOME</th>\n",
       "      <th>geometry</th>\n",
       "      <th>lat</th>\n",
       "      <th>long</th>\n",
       "      <th>latitude</th>\n",
       "      <th>longitude</th>\n",
       "      <th>date</th>\n",
       "      <th>valorMedido</th>\n",
       "    </tr>\n",
       "  </thead>\n",
       "  <tbody>\n",
       "    <tr>\n",
       "      <th>0</th>\n",
       "      <td>88a831acc5fffff</td>\n",
       "      <td>BAIRRO NOVO</td>\n",
       "      <td>POLYGON ((-49.26869 -25.54399, -49.26454 -25.5...</td>\n",
       "      <td>-49.269547</td>\n",
       "      <td>-25.539459</td>\n",
       "      <td>-49.269547</td>\n",
       "      <td>-25.539459</td>\n",
       "      <td>2015-01-01</td>\n",
       "      <td>10.172434</td>\n",
       "    </tr>\n",
       "    <tr>\n",
       "      <th>1</th>\n",
       "      <td>88a831acc5fffff</td>\n",
       "      <td>BAIRRO NOVO</td>\n",
       "      <td>POLYGON ((-49.26869 -25.54399, -49.26454 -25.5...</td>\n",
       "      <td>-49.269547</td>\n",
       "      <td>-25.539459</td>\n",
       "      <td>-49.269547</td>\n",
       "      <td>-25.539459</td>\n",
       "      <td>2015-01-02</td>\n",
       "      <td>2.073578</td>\n",
       "    </tr>\n",
       "    <tr>\n",
       "      <th>2</th>\n",
       "      <td>88a831acc5fffff</td>\n",
       "      <td>BAIRRO NOVO</td>\n",
       "      <td>POLYGON ((-49.26869 -25.54399, -49.26454 -25.5...</td>\n",
       "      <td>-49.269547</td>\n",
       "      <td>-25.539459</td>\n",
       "      <td>-49.269547</td>\n",
       "      <td>-25.539459</td>\n",
       "      <td>2015-01-03</td>\n",
       "      <td>0.438409</td>\n",
       "    </tr>\n",
       "    <tr>\n",
       "      <th>3</th>\n",
       "      <td>88a831acc5fffff</td>\n",
       "      <td>BAIRRO NOVO</td>\n",
       "      <td>POLYGON ((-49.26869 -25.54399, -49.26454 -25.5...</td>\n",
       "      <td>-49.269547</td>\n",
       "      <td>-25.539459</td>\n",
       "      <td>-49.269547</td>\n",
       "      <td>-25.539459</td>\n",
       "      <td>2015-01-04</td>\n",
       "      <td>3.888202</td>\n",
       "    </tr>\n",
       "    <tr>\n",
       "      <th>4</th>\n",
       "      <td>88a831acc5fffff</td>\n",
       "      <td>BAIRRO NOVO</td>\n",
       "      <td>POLYGON ((-49.26869 -25.54399, -49.26454 -25.5...</td>\n",
       "      <td>-49.269547</td>\n",
       "      <td>-25.539459</td>\n",
       "      <td>-49.269547</td>\n",
       "      <td>-25.539459</td>\n",
       "      <td>2015-01-05</td>\n",
       "      <td>13.683469</td>\n",
       "    </tr>\n",
       "  </tbody>\n",
       "</table>\n",
       "</div>"
      ],
      "text/plain": [
       "               hex         NOME  \\\n",
       "0  88a831acc5fffff  BAIRRO NOVO   \n",
       "1  88a831acc5fffff  BAIRRO NOVO   \n",
       "2  88a831acc5fffff  BAIRRO NOVO   \n",
       "3  88a831acc5fffff  BAIRRO NOVO   \n",
       "4  88a831acc5fffff  BAIRRO NOVO   \n",
       "\n",
       "                                            geometry        lat       long  \\\n",
       "0  POLYGON ((-49.26869 -25.54399, -49.26454 -25.5... -49.269547 -25.539459   \n",
       "1  POLYGON ((-49.26869 -25.54399, -49.26454 -25.5... -49.269547 -25.539459   \n",
       "2  POLYGON ((-49.26869 -25.54399, -49.26454 -25.5... -49.269547 -25.539459   \n",
       "3  POLYGON ((-49.26869 -25.54399, -49.26454 -25.5... -49.269547 -25.539459   \n",
       "4  POLYGON ((-49.26869 -25.54399, -49.26454 -25.5... -49.269547 -25.539459   \n",
       "\n",
       "    latitude  longitude        date  valorMedido  \n",
       "0 -49.269547 -25.539459  2015-01-01    10.172434  \n",
       "1 -49.269547 -25.539459  2015-01-02     2.073578  \n",
       "2 -49.269547 -25.539459  2015-01-03     0.438409  \n",
       "3 -49.269547 -25.539459  2015-01-04     3.888202  \n",
       "4 -49.269547 -25.539459  2015-01-05    13.683469  "
      ]
     },
     "execution_count": 11,
     "metadata": {},
     "output_type": "execute_result"
    }
   ],
   "source": [
    "df_merged = df_places.merge(df_interpolados_sum, left_on=[\"lat\", \"long\"], right_on=[\"latitude\", \"longitude\"])\n",
    "df_merged.head() "
   ]
  },
  {
   "cell_type": "code",
   "execution_count": 12,
   "metadata": {},
   "outputs": [
    {
     "name": "stdout",
     "output_type": "stream",
     "text": [
      "<class 'geopandas.geodataframe.GeoDataFrame'>\n",
      "Int64Index: 447168 entries, 0 to 447167\n",
      "Data columns (total 9 columns):\n",
      " #   Column       Non-Null Count   Dtype    \n",
      "---  ------       --------------   -----    \n",
      " 0   hex          447168 non-null  object   \n",
      " 1   NOME         447168 non-null  object   \n",
      " 2   geometry     447168 non-null  geometry \n",
      " 3   lat          447168 non-null  float64  \n",
      " 4   long         447168 non-null  float64  \n",
      " 5   latitude     447168 non-null  float64  \n",
      " 6   longitude    447168 non-null  float64  \n",
      " 7   date         447168 non-null  period[D]\n",
      " 8   valorMedido  447168 non-null  float64  \n",
      "dtypes: float64(5), geometry(1), object(2), period[D](1)\n",
      "memory usage: 34.1+ MB\n"
     ]
    }
   ],
   "source": [
    "df_merged.info()"
   ]
  },
  {
   "cell_type": "code",
   "execution_count": 13,
   "metadata": {},
   "outputs": [],
   "source": [
    "df_merged = df_merged.sort_values(by=[\"hex\", 'date'])"
   ]
  },
  {
   "cell_type": "code",
   "execution_count": 14,
   "metadata": {},
   "outputs": [
    {
     "name": "stderr",
     "output_type": "stream",
     "text": [
      "/var/folders/ld/8dhf4gy93xbd1ybmf6nljm38dn1p1r/T/ipykernel_25177/1487777213.py:2: FutureWarning: Not prepending group keys to the result index of transform-like apply. In the future, the group keys will be included in the index, regardless of whether the applied function returns a like-indexed object.\n",
      "To preserve the previous behavior, use\n",
      "\n",
      "\t>>> .groupby(..., group_keys=False)\n",
      "\n",
      "To adopt the future behavior and silence this warning, use \n",
      "\n",
      "\t>>> .groupby(..., group_keys=True)\n",
      "  df_merged['value_last_3_days'] = df_merged.groupby('hex').valorMedido.apply(f)\n"
     ]
    }
   ],
   "source": [
    "f = lambda x: x.rolling(3).sum().shift()\n",
    "df_merged['value_last_3_days'] = df_merged.groupby('hex').valorMedido.apply(f)"
   ]
  },
  {
   "cell_type": "code",
   "execution_count": 15,
   "metadata": {},
   "outputs": [
    {
     "name": "stderr",
     "output_type": "stream",
     "text": [
      "/var/folders/ld/8dhf4gy93xbd1ybmf6nljm38dn1p1r/T/ipykernel_25177/2449180256.py:2: FutureWarning: Not prepending group keys to the result index of transform-like apply. In the future, the group keys will be included in the index, regardless of whether the applied function returns a like-indexed object.\n",
      "To preserve the previous behavior, use\n",
      "\n",
      "\t>>> .groupby(..., group_keys=False)\n",
      "\n",
      "To adopt the future behavior and silence this warning, use \n",
      "\n",
      "\t>>> .groupby(..., group_keys=True)\n",
      "  df_merged['value_last_7_days'] = df_merged.groupby('hex').valorMedido.apply(f)\n"
     ]
    }
   ],
   "source": [
    "f = lambda x: x.rolling(7).sum().shift()\n",
    "df_merged['value_last_7_days'] = df_merged.groupby('hex').valorMedido.apply(f)"
   ]
  },
  {
   "cell_type": "code",
   "execution_count": 16,
   "metadata": {},
   "outputs": [
    {
     "data": {
      "text/html": [
       "<div>\n",
       "<style scoped>\n",
       "    .dataframe tbody tr th:only-of-type {\n",
       "        vertical-align: middle;\n",
       "    }\n",
       "\n",
       "    .dataframe tbody tr th {\n",
       "        vertical-align: top;\n",
       "    }\n",
       "\n",
       "    .dataframe thead th {\n",
       "        text-align: right;\n",
       "    }\n",
       "</style>\n",
       "<table border=\"1\" class=\"dataframe\">\n",
       "  <thead>\n",
       "    <tr style=\"text-align: right;\">\n",
       "      <th></th>\n",
       "      <th>hex</th>\n",
       "      <th>NOME</th>\n",
       "      <th>geometry</th>\n",
       "      <th>lat</th>\n",
       "      <th>long</th>\n",
       "      <th>latitude</th>\n",
       "      <th>longitude</th>\n",
       "      <th>date</th>\n",
       "      <th>valorMedido</th>\n",
       "      <th>value_last_3_days</th>\n",
       "      <th>value_last_7_days</th>\n",
       "    </tr>\n",
       "  </thead>\n",
       "  <tbody>\n",
       "    <tr>\n",
       "      <th>360584</th>\n",
       "      <td>88a804cb05fffff</td>\n",
       "      <td>SANTA FELICIDADE</td>\n",
       "      <td>POLYGON ((-49.32706 -25.38348, -49.32291 -25.3...</td>\n",
       "      <td>-49.327917</td>\n",
       "      <td>-25.378939</td>\n",
       "      <td>-49.327917</td>\n",
       "      <td>-25.378939</td>\n",
       "      <td>2015-01-01</td>\n",
       "      <td>11.598242</td>\n",
       "      <td>NaN</td>\n",
       "      <td>NaN</td>\n",
       "    </tr>\n",
       "    <tr>\n",
       "      <th>360585</th>\n",
       "      <td>88a804cb05fffff</td>\n",
       "      <td>SANTA FELICIDADE</td>\n",
       "      <td>POLYGON ((-49.32706 -25.38348, -49.32291 -25.3...</td>\n",
       "      <td>-49.327917</td>\n",
       "      <td>-25.378939</td>\n",
       "      <td>-49.327917</td>\n",
       "      <td>-25.378939</td>\n",
       "      <td>2015-01-02</td>\n",
       "      <td>1.995620</td>\n",
       "      <td>NaN</td>\n",
       "      <td>NaN</td>\n",
       "    </tr>\n",
       "    <tr>\n",
       "      <th>360586</th>\n",
       "      <td>88a804cb05fffff</td>\n",
       "      <td>SANTA FELICIDADE</td>\n",
       "      <td>POLYGON ((-49.32706 -25.38348, -49.32291 -25.3...</td>\n",
       "      <td>-49.327917</td>\n",
       "      <td>-25.378939</td>\n",
       "      <td>-49.327917</td>\n",
       "      <td>-25.378939</td>\n",
       "      <td>2015-01-03</td>\n",
       "      <td>0.209650</td>\n",
       "      <td>NaN</td>\n",
       "      <td>NaN</td>\n",
       "    </tr>\n",
       "    <tr>\n",
       "      <th>360587</th>\n",
       "      <td>88a804cb05fffff</td>\n",
       "      <td>SANTA FELICIDADE</td>\n",
       "      <td>POLYGON ((-49.32706 -25.38348, -49.32291 -25.3...</td>\n",
       "      <td>-49.327917</td>\n",
       "      <td>-25.378939</td>\n",
       "      <td>-49.327917</td>\n",
       "      <td>-25.378939</td>\n",
       "      <td>2015-01-04</td>\n",
       "      <td>3.537818</td>\n",
       "      <td>13.803512</td>\n",
       "      <td>NaN</td>\n",
       "    </tr>\n",
       "    <tr>\n",
       "      <th>360588</th>\n",
       "      <td>88a804cb05fffff</td>\n",
       "      <td>SANTA FELICIDADE</td>\n",
       "      <td>POLYGON ((-49.32706 -25.38348, -49.32291 -25.3...</td>\n",
       "      <td>-49.327917</td>\n",
       "      <td>-25.378939</td>\n",
       "      <td>-49.327917</td>\n",
       "      <td>-25.378939</td>\n",
       "      <td>2015-01-05</td>\n",
       "      <td>25.649315</td>\n",
       "      <td>5.743088</td>\n",
       "      <td>NaN</td>\n",
       "    </tr>\n",
       "  </tbody>\n",
       "</table>\n",
       "</div>"
      ],
      "text/plain": [
       "                    hex              NOME  \\\n",
       "360584  88a804cb05fffff  SANTA FELICIDADE   \n",
       "360585  88a804cb05fffff  SANTA FELICIDADE   \n",
       "360586  88a804cb05fffff  SANTA FELICIDADE   \n",
       "360587  88a804cb05fffff  SANTA FELICIDADE   \n",
       "360588  88a804cb05fffff  SANTA FELICIDADE   \n",
       "\n",
       "                                                 geometry        lat  \\\n",
       "360584  POLYGON ((-49.32706 -25.38348, -49.32291 -25.3... -49.327917   \n",
       "360585  POLYGON ((-49.32706 -25.38348, -49.32291 -25.3... -49.327917   \n",
       "360586  POLYGON ((-49.32706 -25.38348, -49.32291 -25.3... -49.327917   \n",
       "360587  POLYGON ((-49.32706 -25.38348, -49.32291 -25.3... -49.327917   \n",
       "360588  POLYGON ((-49.32706 -25.38348, -49.32291 -25.3... -49.327917   \n",
       "\n",
       "             long   latitude  longitude        date  valorMedido  \\\n",
       "360584 -25.378939 -49.327917 -25.378939  2015-01-01    11.598242   \n",
       "360585 -25.378939 -49.327917 -25.378939  2015-01-02     1.995620   \n",
       "360586 -25.378939 -49.327917 -25.378939  2015-01-03     0.209650   \n",
       "360587 -25.378939 -49.327917 -25.378939  2015-01-04     3.537818   \n",
       "360588 -25.378939 -49.327917 -25.378939  2015-01-05    25.649315   \n",
       "\n",
       "        value_last_3_days  value_last_7_days  \n",
       "360584                NaN                NaN  \n",
       "360585                NaN                NaN  \n",
       "360586                NaN                NaN  \n",
       "360587          13.803512                NaN  \n",
       "360588           5.743088                NaN  "
      ]
     },
     "execution_count": 16,
     "metadata": {},
     "output_type": "execute_result"
    }
   ],
   "source": [
    "# df_merged[df_merged[\"date\"] == datetime(year=2018, month=1, day=7)]\n",
    "df_merged[df_merged[\"hex\"] == \"88a804cb05fffff\"][:5]"
   ]
  },
  {
   "cell_type": "code",
   "execution_count": 17,
   "metadata": {},
   "outputs": [
    {
     "data": {
      "text/plain": [
       "<PeriodArray>\n",
       "['2015-01-01', '2015-01-02', '2015-01-03', '2015-01-04', '2015-01-05',\n",
       " '2015-01-06', '2015-01-07', '2015-01-08', '2015-01-09', '2015-01-10',\n",
       " ...\n",
       " '2017-12-22', '2017-12-23', '2017-12-24', '2017-12-25', '2017-12-26',\n",
       " '2017-12-27', '2017-12-28', '2017-12-29', '2017-12-30', '2017-12-31']\n",
       "Length: 1096, dtype: period[D]"
      ]
     },
     "execution_count": 17,
     "metadata": {},
     "output_type": "execute_result"
    }
   ],
   "source": [
    "df_merged.date.unique()"
   ]
  },
  {
   "cell_type": "code",
   "execution_count": 18,
   "metadata": {},
   "outputs": [],
   "source": [
    "df_merged = df_merged.fillna(0.0)"
   ]
  },
  {
   "cell_type": "code",
   "execution_count": 19,
   "metadata": {},
   "outputs": [
    {
     "data": {
      "text/plain": [
       "<PeriodArray>\n",
       "['2015-01-01', '2015-01-02', '2015-01-03', '2015-01-04', '2015-01-05',\n",
       " '2015-01-06', '2015-01-07', '2015-01-08', '2015-01-09', '2015-01-10',\n",
       " ...\n",
       " '2017-12-22', '2017-12-23', '2017-12-24', '2017-12-25', '2017-12-26',\n",
       " '2017-12-27', '2017-12-28', '2017-12-29', '2017-12-30', '2017-12-31']\n",
       "Length: 1096, dtype: period[D]"
      ]
     },
     "execution_count": 19,
     "metadata": {},
     "output_type": "execute_result"
    }
   ],
   "source": [
    "df_merged.date.unique()"
   ]
  },
  {
   "cell_type": "code",
   "execution_count": null,
   "metadata": {},
   "outputs": [],
   "source": [
    "df_places_filter = df_merged[df_merged.date == \"2018-01-19\"]\n",
    "df_places_filter[:10]\n",
    "\n",
    "df_places_filter.plot(column=\"value_last_3_days\", cmap='Blues', figsize = (5,7.5), legend=True)\n",
    "plt.show()\n",
    "\n",
    "# df_places"
   ]
  },
  {
   "cell_type": "code",
   "execution_count": null,
   "metadata": {},
   "outputs": [],
   "source": [
    "df_places_filter.plot(column=\"valorMedido\", cmap='Blues', figsize = (5,7.5), legend=True)"
   ]
  },
  {
   "cell_type": "code",
   "execution_count": null,
   "metadata": {},
   "outputs": [],
   "source": [
    "df_places_filter.plot(column=\"value_last_7_days\", cmap='Blues', figsize = (5,7.5), legend=True)"
   ]
  },
  {
   "cell_type": "code",
   "execution_count": null,
   "metadata": {},
   "outputs": [],
   "source": [
    "df_places_filter.to_csv(\"../dados/dados_pluviometricos_geo_19_01_2018.csv\", index=False)"
   ]
  },
  {
   "cell_type": "code",
   "execution_count": null,
   "metadata": {},
   "outputs": [],
   "source": [
    "print(df_merged.crs)"
   ]
  },
  {
   "cell_type": "code",
   "execution_count": 20,
   "metadata": {},
   "outputs": [],
   "source": [
    "df_merged.to_csv(\"../dados/dados_pluviometricos_geo_anos.csv\", index=False)"
   ]
  },
  {
   "cell_type": "code",
   "execution_count": null,
   "metadata": {},
   "outputs": [],
   "source": [
    "df = pd.read_csv(\"../dados/dados_pluviometricos_geo.csv\")\n",
    "\n",
    "gdf = gpd.GeoDataFrame(\n",
    "    df,\n",
    "    crs={'init': 'epsg:4326'},\n",
    "    geometry=gpd.points_from_xy(df.latitude, df.longitude)\n",
    ")"
   ]
  },
  {
   "cell_type": "code",
   "execution_count": null,
   "metadata": {},
   "outputs": [],
   "source": [
    "df.head()"
   ]
  },
  {
   "cell_type": "code",
   "execution_count": null,
   "metadata": {},
   "outputs": [],
   "source": [
    "df_places_filter = gdf[gdf.date == \"2018-02-20\"]\n",
    "df_places_filter[:10]\n",
    "\n",
    "df_places_filter.plot(column=\"value_last_3_days\", cmap='Blues', figsize = (5,7.5), legend=True)\n",
    "plt.show()\n",
    "\n",
    "# df_places"
   ]
  }
 ],
 "metadata": {
  "kernelspec": {
   "display_name": "Python 3.10.6 ('geo_env')",
   "language": "python",
   "name": "python3"
  },
  "language_info": {
   "codemirror_mode": {
    "name": "ipython",
    "version": 3
   },
   "file_extension": ".py",
   "mimetype": "text/x-python",
   "name": "python",
   "nbconvert_exporter": "python",
   "pygments_lexer": "ipython3",
   "version": "3.10.6"
  },
  "orig_nbformat": 4,
  "vscode": {
   "interpreter": {
    "hash": "bb0ab964245ff9c784ee5a02af168298486e0b68be3b7c9492da5aad1b887acd"
   }
  }
 },
 "nbformat": 4,
 "nbformat_minor": 2
}
