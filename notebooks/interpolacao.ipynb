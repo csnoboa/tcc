{
 "cells": [
  {
   "cell_type": "code",
   "execution_count": 83,
   "metadata": {},
   "outputs": [],
   "source": [
    "import geopandas as gpd\n",
    "import pandas as pd\n",
    "from shapely.geometry import Point\n",
    "import shapely\n",
    "\n",
    "df_meteorologia = pd.read_csv(\"../dados/Dados Meteorologicos - Finalizado.csv\")"
   ]
  },
  {
   "cell_type": "code",
   "execution_count": 84,
   "metadata": {},
   "outputs": [
    {
     "data": {
      "text/html": [
       "<div>\n",
       "<style scoped>\n",
       "    .dataframe tbody tr th:only-of-type {\n",
       "        vertical-align: middle;\n",
       "    }\n",
       "\n",
       "    .dataframe tbody tr th {\n",
       "        vertical-align: top;\n",
       "    }\n",
       "\n",
       "    .dataframe thead th {\n",
       "        text-align: right;\n",
       "    }\n",
       "</style>\n",
       "<table border=\"1\" class=\"dataframe\">\n",
       "  <thead>\n",
       "    <tr style=\"text-align: right;\">\n",
       "      <th></th>\n",
       "      <th>index</th>\n",
       "      <th>valorMedida</th>\n",
       "      <th>codEstacao</th>\n",
       "      <th>municipio</th>\n",
       "      <th>uf</th>\n",
       "      <th>nomeEstacao</th>\n",
       "      <th>latitude</th>\n",
       "      <th>longitude</th>\n",
       "    </tr>\n",
       "  </thead>\n",
       "  <tbody>\n",
       "    <tr>\n",
       "      <th>50</th>\n",
       "      <td>2015-01-03 02:00:00</td>\n",
       "      <td>0.0</td>\n",
       "      <td>410690203A</td>\n",
       "      <td>CURITIBA</td>\n",
       "      <td>PR</td>\n",
       "      <td>Vista Alegre</td>\n",
       "      <td>-49.30100</td>\n",
       "      <td>-25.4130</td>\n",
       "    </tr>\n",
       "    <tr>\n",
       "      <th>51</th>\n",
       "      <td>2015-01-03 03:00:00</td>\n",
       "      <td>0.0</td>\n",
       "      <td>410690203A</td>\n",
       "      <td>CURITIBA</td>\n",
       "      <td>PR</td>\n",
       "      <td>Vista Alegre</td>\n",
       "      <td>-49.30100</td>\n",
       "      <td>-25.4130</td>\n",
       "    </tr>\n",
       "    <tr>\n",
       "      <th>52</th>\n",
       "      <td>2015-01-03 04:00:00</td>\n",
       "      <td>0.0</td>\n",
       "      <td>410690203A</td>\n",
       "      <td>CURITIBA</td>\n",
       "      <td>PR</td>\n",
       "      <td>Vista Alegre</td>\n",
       "      <td>-49.30100</td>\n",
       "      <td>-25.4130</td>\n",
       "    </tr>\n",
       "    <tr>\n",
       "      <th>53</th>\n",
       "      <td>2015-01-03 05:00:00</td>\n",
       "      <td>0.0</td>\n",
       "      <td>410690203A</td>\n",
       "      <td>CURITIBA</td>\n",
       "      <td>PR</td>\n",
       "      <td>Vista Alegre</td>\n",
       "      <td>-49.30100</td>\n",
       "      <td>-25.4130</td>\n",
       "    </tr>\n",
       "    <tr>\n",
       "      <th>54</th>\n",
       "      <td>2015-01-03 06:00:00</td>\n",
       "      <td>0.0</td>\n",
       "      <td>410690203A</td>\n",
       "      <td>CURITIBA</td>\n",
       "      <td>PR</td>\n",
       "      <td>Vista Alegre</td>\n",
       "      <td>-49.30100</td>\n",
       "      <td>-25.4130</td>\n",
       "    </tr>\n",
       "    <tr>\n",
       "      <th>...</th>\n",
       "      <td>...</td>\n",
       "      <td>...</td>\n",
       "      <td>...</td>\n",
       "      <td>...</td>\n",
       "      <td>...</td>\n",
       "      <td>...</td>\n",
       "      <td>...</td>\n",
       "      <td>...</td>\n",
       "    </tr>\n",
       "    <tr>\n",
       "      <th>269676</th>\n",
       "      <td>2017-12-19 22:00:00</td>\n",
       "      <td>0.0</td>\n",
       "      <td>410690202A</td>\n",
       "      <td>CURITIBA</td>\n",
       "      <td>PR</td>\n",
       "      <td>CEI Romário Martins</td>\n",
       "      <td>-49.25527</td>\n",
       "      <td>-25.3536</td>\n",
       "    </tr>\n",
       "    <tr>\n",
       "      <th>269677</th>\n",
       "      <td>2017-12-19 23:00:00</td>\n",
       "      <td>0.0</td>\n",
       "      <td>410690202A</td>\n",
       "      <td>CURITIBA</td>\n",
       "      <td>PR</td>\n",
       "      <td>CEI Romário Martins</td>\n",
       "      <td>-49.25527</td>\n",
       "      <td>-25.3536</td>\n",
       "    </tr>\n",
       "    <tr>\n",
       "      <th>269678</th>\n",
       "      <td>2017-12-20 00:00:00</td>\n",
       "      <td>0.0</td>\n",
       "      <td>410690202A</td>\n",
       "      <td>CURITIBA</td>\n",
       "      <td>PR</td>\n",
       "      <td>CEI Romário Martins</td>\n",
       "      <td>-49.25527</td>\n",
       "      <td>-25.3536</td>\n",
       "    </tr>\n",
       "    <tr>\n",
       "      <th>269679</th>\n",
       "      <td>2017-12-20 01:00:00</td>\n",
       "      <td>0.0</td>\n",
       "      <td>410690202A</td>\n",
       "      <td>CURITIBA</td>\n",
       "      <td>PR</td>\n",
       "      <td>CEI Romário Martins</td>\n",
       "      <td>-49.25527</td>\n",
       "      <td>-25.3536</td>\n",
       "    </tr>\n",
       "    <tr>\n",
       "      <th>269680</th>\n",
       "      <td>2017-12-20 02:00:00</td>\n",
       "      <td>0.0</td>\n",
       "      <td>410690202A</td>\n",
       "      <td>CURITIBA</td>\n",
       "      <td>PR</td>\n",
       "      <td>CEI Romário Martins</td>\n",
       "      <td>-49.25527</td>\n",
       "      <td>-25.3536</td>\n",
       "    </tr>\n",
       "  </tbody>\n",
       "</table>\n",
       "<p>269631 rows × 8 columns</p>\n",
       "</div>"
      ],
      "text/plain": [
       "                      index  valorMedida  codEstacao municipio  uf  \\\n",
       "50      2015-01-03 02:00:00          0.0  410690203A  CURITIBA  PR   \n",
       "51      2015-01-03 03:00:00          0.0  410690203A  CURITIBA  PR   \n",
       "52      2015-01-03 04:00:00          0.0  410690203A  CURITIBA  PR   \n",
       "53      2015-01-03 05:00:00          0.0  410690203A  CURITIBA  PR   \n",
       "54      2015-01-03 06:00:00          0.0  410690203A  CURITIBA  PR   \n",
       "...                     ...          ...         ...       ...  ..   \n",
       "269676  2017-12-19 22:00:00          0.0  410690202A  CURITIBA  PR   \n",
       "269677  2017-12-19 23:00:00          0.0  410690202A  CURITIBA  PR   \n",
       "269678  2017-12-20 00:00:00          0.0  410690202A  CURITIBA  PR   \n",
       "269679  2017-12-20 01:00:00          0.0  410690202A  CURITIBA  PR   \n",
       "269680  2017-12-20 02:00:00          0.0  410690202A  CURITIBA  PR   \n",
       "\n",
       "                nomeEstacao  latitude  longitude  \n",
       "50             Vista Alegre -49.30100   -25.4130  \n",
       "51             Vista Alegre -49.30100   -25.4130  \n",
       "52             Vista Alegre -49.30100   -25.4130  \n",
       "53             Vista Alegre -49.30100   -25.4130  \n",
       "54             Vista Alegre -49.30100   -25.4130  \n",
       "...                     ...       ...        ...  \n",
       "269676  CEI Romário Martins -49.25527   -25.3536  \n",
       "269677  CEI Romário Martins -49.25527   -25.3536  \n",
       "269678  CEI Romário Martins -49.25527   -25.3536  \n",
       "269679  CEI Romário Martins -49.25527   -25.3536  \n",
       "269680  CEI Romário Martins -49.25527   -25.3536  \n",
       "\n",
       "[269631 rows x 8 columns]"
      ]
     },
     "execution_count": 84,
     "metadata": {},
     "output_type": "execute_result"
    }
   ],
   "source": [
    "df_meteorologia[50:]"
   ]
  },
  {
   "cell_type": "code",
   "execution_count": 77,
   "metadata": {},
   "outputs": [],
   "source": [
    "df_meteorologia[\"latitude\"] = df_meteorologia[\"latitude\"].round(2)\n",
    "df_meteorologia[\"longitude\"] = df_meteorologia[\"longitude\"].round(2)"
   ]
  },
  {
   "cell_type": "code",
   "execution_count": 85,
   "metadata": {},
   "outputs": [
    {
     "name": "stderr",
     "output_type": "stream",
     "text": [
      "/var/folders/ld/8dhf4gy93xbd1ybmf6nljm38dn1p1r/T/ipykernel_72839/3945906694.py:4: UserWarning: Geometry is in a geographic CRS. Results from 'centroid' are likely incorrect. Use 'GeoSeries.to_crs()' to re-project geometries to a projected CRS before this operation.\n",
      "\n",
      "  df_places[\"latitude\"] = df_places.centroid.x\n",
      "/var/folders/ld/8dhf4gy93xbd1ybmf6nljm38dn1p1r/T/ipykernel_72839/3945906694.py:5: UserWarning: Geometry is in a geographic CRS. Results from 'centroid' are likely incorrect. Use 'GeoSeries.to_crs()' to re-project geometries to a projected CRS before this operation.\n",
      "\n",
      "  df_places[\"longitude\"] = df_places.centroid.y\n"
     ]
    }
   ],
   "source": [
    "#Leitura hexagonos\n",
    "\n",
    "df_places = gpd.read_file('../dados/hex8_data_geometry_curitiba3.geojson')\n",
    "df_places[\"latitude\"] = df_places.centroid.x\n",
    "df_places[\"longitude\"] = df_places.centroid.y"
   ]
  },
  {
   "cell_type": "code",
   "execution_count": 67,
   "metadata": {},
   "outputs": [
    {
     "data": {
      "text/html": [
       "<div>\n",
       "<style scoped>\n",
       "    .dataframe tbody tr th:only-of-type {\n",
       "        vertical-align: middle;\n",
       "    }\n",
       "\n",
       "    .dataframe tbody tr th {\n",
       "        vertical-align: top;\n",
       "    }\n",
       "\n",
       "    .dataframe thead th {\n",
       "        text-align: right;\n",
       "    }\n",
       "</style>\n",
       "<table border=\"1\" class=\"dataframe\">\n",
       "  <thead>\n",
       "    <tr style=\"text-align: right;\">\n",
       "      <th></th>\n",
       "      <th>date</th>\n",
       "      <th>score</th>\n",
       "      <th>hex</th>\n",
       "      <th>NOME</th>\n",
       "      <th>geometry</th>\n",
       "      <th>latitude</th>\n",
       "      <th>longitude</th>\n",
       "    </tr>\n",
       "  </thead>\n",
       "  <tbody>\n",
       "    <tr>\n",
       "      <th>0</th>\n",
       "      <td>2020-05-18</td>\n",
       "      <td>100</td>\n",
       "      <td>88a831acc7fffff</td>\n",
       "      <td>BAIRRO NOVO</td>\n",
       "      <td>POLYGON ((-49.27456 -25.53764, -49.27041 -25.5...</td>\n",
       "      <td>-49.275416</td>\n",
       "      <td>-25.533110</td>\n",
       "    </tr>\n",
       "    <tr>\n",
       "      <th>1</th>\n",
       "      <td>2020-03-11</td>\n",
       "      <td>100</td>\n",
       "      <td>88a831ace1fffff</td>\n",
       "      <td>BAIRRO NOVO</td>\n",
       "      <td>POLYGON ((-49.25623 -25.53586, -49.25208 -25.5...</td>\n",
       "      <td>-49.257088</td>\n",
       "      <td>-25.531334</td>\n",
       "    </tr>\n",
       "    <tr>\n",
       "      <th>2</th>\n",
       "      <td>2020-04-01</td>\n",
       "      <td>100</td>\n",
       "      <td>88a831acebfffff</td>\n",
       "      <td>BAIRRO NOVO</td>\n",
       "      <td>POLYGON ((-49.26539 -25.53675, -49.26124 -25.5...</td>\n",
       "      <td>-49.266252</td>\n",
       "      <td>-25.532222</td>\n",
       "    </tr>\n",
       "    <tr>\n",
       "      <th>3</th>\n",
       "      <td>2020-07-12</td>\n",
       "      <td>100</td>\n",
       "      <td>88a831acc5fffff</td>\n",
       "      <td>BAIRRO NOVO</td>\n",
       "      <td>POLYGON ((-49.26869 -25.54399, -49.26454 -25.5...</td>\n",
       "      <td>-49.269547</td>\n",
       "      <td>-25.539459</td>\n",
       "    </tr>\n",
       "    <tr>\n",
       "      <th>4</th>\n",
       "      <td>2020-04-25</td>\n",
       "      <td>99</td>\n",
       "      <td>88a831acedfffff</td>\n",
       "      <td>BAIRRO NOVO</td>\n",
       "      <td>POLYGON ((-49.25036 -25.54221, -49.24621 -25.5...</td>\n",
       "      <td>-49.251219</td>\n",
       "      <td>-25.537683</td>\n",
       "    </tr>\n",
       "  </tbody>\n",
       "</table>\n",
       "</div>"
      ],
      "text/plain": [
       "         date  score              hex         NOME  \\\n",
       "0  2020-05-18    100  88a831acc7fffff  BAIRRO NOVO   \n",
       "1  2020-03-11    100  88a831ace1fffff  BAIRRO NOVO   \n",
       "2  2020-04-01    100  88a831acebfffff  BAIRRO NOVO   \n",
       "3  2020-07-12    100  88a831acc5fffff  BAIRRO NOVO   \n",
       "4  2020-04-25     99  88a831acedfffff  BAIRRO NOVO   \n",
       "\n",
       "                                            geometry   latitude  longitude  \n",
       "0  POLYGON ((-49.27456 -25.53764, -49.27041 -25.5... -49.275416 -25.533110  \n",
       "1  POLYGON ((-49.25623 -25.53586, -49.25208 -25.5... -49.257088 -25.531334  \n",
       "2  POLYGON ((-49.26539 -25.53675, -49.26124 -25.5... -49.266252 -25.532222  \n",
       "3  POLYGON ((-49.26869 -25.54399, -49.26454 -25.5... -49.269547 -25.539459  \n",
       "4  POLYGON ((-49.25036 -25.54221, -49.24621 -25.5... -49.251219 -25.537683  "
      ]
     },
     "execution_count": 67,
     "metadata": {},
     "output_type": "execute_result"
    }
   ],
   "source": [
    "df_places[:5]"
   ]
  },
  {
   "cell_type": "code",
   "execution_count": 78,
   "metadata": {},
   "outputs": [],
   "source": [
    "df_places[\"latitude\"] = df_places[\"latitude\"].round(2)\n",
    "df_places[\"longitude\"] = df_places[\"longitude\"].round(2)"
   ]
  },
  {
   "cell_type": "code",
   "execution_count": 86,
   "metadata": {},
   "outputs": [],
   "source": [
    "\n",
    "df_meteorologia = df_meteorologia.rename(columns={'index': 'dataHora'})"
   ]
  },
  {
   "cell_type": "code",
   "execution_count": 87,
   "metadata": {},
   "outputs": [
    {
     "name": "stdout",
     "output_type": "stream",
     "text": [
      "epsg:4326\n"
     ]
    }
   ],
   "source": [
    "gdf = gpd.GeoDataFrame(\n",
    "    df_meteorologia, geometry=gpd.points_from_xy(df_meteorologia.latitude, df_meteorologia.longitude))\n",
    "gdf = gdf.set_crs(df_places.crs)\n",
    "print(gdf.crs)"
   ]
  },
  {
   "cell_type": "code",
   "execution_count": 81,
   "metadata": {},
   "outputs": [],
   "source": [
    "df_merged = df_places.merge(df_meteorologia, on=[\"longitude\", \"latitude\"])"
   ]
  },
  {
   "cell_type": "code",
   "execution_count": 93,
   "metadata": {},
   "outputs": [
    {
     "data": {
      "text/plain": [
       "<bound method Series.isna of 0         0.2\n",
       "1         0.0\n",
       "2         0.0\n",
       "3         0.0\n",
       "4         0.0\n",
       "         ... \n",
       "642811    0.0\n",
       "642812    0.0\n",
       "642813    0.0\n",
       "642814    0.0\n",
       "642815    0.0\n",
       "Name: valorMedida, Length: 642816, dtype: float64>"
      ]
     },
     "execution_count": 93,
     "metadata": {},
     "output_type": "execute_result"
    }
   ],
   "source": [
    "df_merged.valorMedida.isna"
   ]
  },
  {
   "cell_type": "code",
   "execution_count": 88,
   "metadata": {},
   "outputs": [
    {
     "data": {
      "text/plain": [
       "<AxesSubplot: >"
      ]
     },
     "execution_count": 88,
     "metadata": {},
     "output_type": "execute_result"
    },
    {
     "data": {
      "image/png": "[encoded data removed]",
      "text/plain": [
       "<Figure size 640x480 with 1 Axes>"
      ]
     },
     "metadata": {},
     "output_type": "display_data"
    }
   ],
   "source": [
    "gdf.plot()"
   ]
  },
  {
   "cell_type": "code",
   "execution_count": 89,
   "metadata": {},
   "outputs": [
    {
     "data": {
      "text/html": [
       "<div>\n",
       "<style scoped>\n",
       "    .dataframe tbody tr th:only-of-type {\n",
       "        vertical-align: middle;\n",
       "    }\n",
       "\n",
       "    .dataframe tbody tr th {\n",
       "        vertical-align: top;\n",
       "    }\n",
       "\n",
       "    .dataframe thead th {\n",
       "        text-align: right;\n",
       "    }\n",
       "</style>\n",
       "<table border=\"1\" class=\"dataframe\">\n",
       "  <thead>\n",
       "    <tr style=\"text-align: right;\">\n",
       "      <th></th>\n",
       "      <th>dataHora</th>\n",
       "      <th>valorMedida</th>\n",
       "      <th>codEstacao</th>\n",
       "      <th>municipio</th>\n",
       "      <th>uf</th>\n",
       "      <th>nomeEstacao</th>\n",
       "      <th>latitude</th>\n",
       "      <th>longitude</th>\n",
       "      <th>geometry</th>\n",
       "    </tr>\n",
       "  </thead>\n",
       "  <tbody>\n",
       "    <tr>\n",
       "      <th>0</th>\n",
       "      <td>2015-01-01 00:00:00</td>\n",
       "      <td>0.0</td>\n",
       "      <td>410690203A</td>\n",
       "      <td>CURITIBA</td>\n",
       "      <td>PR</td>\n",
       "      <td>Vista Alegre</td>\n",
       "      <td>-49.301</td>\n",
       "      <td>-25.413</td>\n",
       "      <td>POINT (-49.30100 -25.41300)</td>\n",
       "    </tr>\n",
       "    <tr>\n",
       "      <th>1</th>\n",
       "      <td>2015-01-01 01:00:00</td>\n",
       "      <td>0.0</td>\n",
       "      <td>410690203A</td>\n",
       "      <td>CURITIBA</td>\n",
       "      <td>PR</td>\n",
       "      <td>Vista Alegre</td>\n",
       "      <td>-49.301</td>\n",
       "      <td>-25.413</td>\n",
       "      <td>POINT (-49.30100 -25.41300)</td>\n",
       "    </tr>\n",
       "    <tr>\n",
       "      <th>2</th>\n",
       "      <td>2015-01-01 02:00:00</td>\n",
       "      <td>0.2</td>\n",
       "      <td>410690203A</td>\n",
       "      <td>CURITIBA</td>\n",
       "      <td>PR</td>\n",
       "      <td>Vista Alegre</td>\n",
       "      <td>-49.301</td>\n",
       "      <td>-25.413</td>\n",
       "      <td>POINT (-49.30100 -25.41300)</td>\n",
       "    </tr>\n",
       "    <tr>\n",
       "      <th>3</th>\n",
       "      <td>2015-01-01 03:00:00</td>\n",
       "      <td>0.0</td>\n",
       "      <td>410690203A</td>\n",
       "      <td>CURITIBA</td>\n",
       "      <td>PR</td>\n",
       "      <td>Vista Alegre</td>\n",
       "      <td>-49.301</td>\n",
       "      <td>-25.413</td>\n",
       "      <td>POINT (-49.30100 -25.41300)</td>\n",
       "    </tr>\n",
       "    <tr>\n",
       "      <th>4</th>\n",
       "      <td>2015-01-01 04:00:00</td>\n",
       "      <td>0.0</td>\n",
       "      <td>410690203A</td>\n",
       "      <td>CURITIBA</td>\n",
       "      <td>PR</td>\n",
       "      <td>Vista Alegre</td>\n",
       "      <td>-49.301</td>\n",
       "      <td>-25.413</td>\n",
       "      <td>POINT (-49.30100 -25.41300)</td>\n",
       "    </tr>\n",
       "  </tbody>\n",
       "</table>\n",
       "</div>"
      ],
      "text/plain": [
       "              dataHora  valorMedida  codEstacao municipio  uf   nomeEstacao  \\\n",
       "0  2015-01-01 00:00:00          0.0  410690203A  CURITIBA  PR  Vista Alegre   \n",
       "1  2015-01-01 01:00:00          0.0  410690203A  CURITIBA  PR  Vista Alegre   \n",
       "2  2015-01-01 02:00:00          0.2  410690203A  CURITIBA  PR  Vista Alegre   \n",
       "3  2015-01-01 03:00:00          0.0  410690203A  CURITIBA  PR  Vista Alegre   \n",
       "4  2015-01-01 04:00:00          0.0  410690203A  CURITIBA  PR  Vista Alegre   \n",
       "\n",
       "   latitude  longitude                     geometry  \n",
       "0   -49.301    -25.413  POINT (-49.30100 -25.41300)  \n",
       "1   -49.301    -25.413  POINT (-49.30100 -25.41300)  \n",
       "2   -49.301    -25.413  POINT (-49.30100 -25.41300)  \n",
       "3   -49.301    -25.413  POINT (-49.30100 -25.41300)  \n",
       "4   -49.301    -25.413  POINT (-49.30100 -25.41300)  "
      ]
     },
     "execution_count": 89,
     "metadata": {},
     "output_type": "execute_result"
    }
   ],
   "source": [
    "gdf[:5]"
   ]
  },
  {
   "cell_type": "code",
   "execution_count": null,
   "metadata": {},
   "outputs": [],
   "source": [
    "df_places"
   ]
  }
 ],
 "metadata": {
  "kernelspec": {
   "display_name": "Python 3.10.6",
   "language": "python",
   "name": "python3"
  },
  "language_info": {
   "codemirror_mode": {
    "name": "ipython",
    "version": 3
   },
   "file_extension": ".py",
   "mimetype": "text/x-python",
   "name": "python",
   "nbconvert_exporter": "python",
   "pygments_lexer": "ipython3",
   "version": "3.10.6"
  },
  "orig_nbformat": 4,
  "vscode": {
   "interpreter": {
    "hash": "bb0ab964245ff9c784ee5a02af168298486e0b68be3b7c9492da5aad1b887acd"
   }
  }
 },
 "nbformat": 4,
 "nbformat_minor": 2
}
