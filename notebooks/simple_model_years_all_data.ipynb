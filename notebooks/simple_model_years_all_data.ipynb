{
 "cells": [
  {
   "attachments": {},
   "cell_type": "markdown",
   "metadata": {},
   "source": [
    "Classification Model"
   ]
  },
  {
   "cell_type": "code",
   "execution_count": 1,
   "metadata": {},
   "outputs": [],
   "source": [
    "import geopandas as gpd\n",
    "import matplotlib.pyplot as plt\n",
    "import pandas as pd\n",
    "from datetime import datetime, timedelta\n",
    "import numpy as np\n",
    "from sklearn.tree import DecisionTreeClassifier\n",
    "from sklearn.ensemble import RandomForestClassifier\n",
    "from sklearn.model_selection import train_test_split\n",
    "from sklearn.metrics import accuracy_score, recall_score, confusion_matrix"
   ]
  },
  {
   "cell_type": "code",
   "execution_count": 2,
   "metadata": {},
   "outputs": [],
   "source": [
    "df_pluviometricos = pd.read_csv(\"../dados/dados_pluviometricos_geo_anos.csv\")"
   ]
  },
  {
   "cell_type": "code",
   "execution_count": 3,
   "metadata": {},
   "outputs": [],
   "source": [
    "df_curva_niveis = pd.read_csv(\"../dados/dados_curva_niveis.csv\")"
   ]
  },
  {
   "cell_type": "code",
   "execution_count": 4,
   "metadata": {},
   "outputs": [],
   "source": [
    "df_curva_niveis = df_curva_niveis[[\"score\", \"hex\", \"geometry\", \"Elevation\"]]"
   ]
  },
  {
   "cell_type": "code",
   "execution_count": 5,
   "metadata": {},
   "outputs": [
    {
     "name": "stderr",
     "output_type": "stream",
     "text": [
      "/var/folders/ld/8dhf4gy93xbd1ybmf6nljm38dn1p1r/T/ipykernel_27314/975208766.py:1: FutureWarning: Indexing with multiple keys (implicitly converted to a tuple of keys) will be deprecated, use a list instead.\n",
      "  df_curva_niveis = df_curva_niveis.groupby([\"hex\", \"geometry\"], as_index=False)[\"Elevation\", \"score\"].mean()\n"
     ]
    }
   ],
   "source": [
    "df_curva_niveis = df_curva_niveis.groupby([\"hex\", \"geometry\"], as_index=False)[\"Elevation\", \"score\"].mean()"
   ]
  },
  {
   "attachments": {},
   "cell_type": "markdown",
   "metadata": {},
   "source": [
    "Preparar dados de Lagos, Rios e Cavas"
   ]
  },
  {
   "cell_type": "code",
   "execution_count": 6,
   "metadata": {},
   "outputs": [],
   "source": [
    "df_hidro = pd.read_csv(\"../dados/lagos_rios.csv\")"
   ]
  },
  {
   "attachments": {},
   "cell_type": "markdown",
   "metadata": {},
   "source": [
    "Preparar Feature do Solo"
   ]
  },
  {
   "cell_type": "code",
   "execution_count": 32,
   "metadata": {},
   "outputs": [],
   "source": [
    "df_feature_solo = pd.read_csv(\"../dados/feature_solo.csv\")"
   ]
  },
  {
   "attachments": {},
   "cell_type": "markdown",
   "metadata": {},
   "source": [
    "Preparar o dataset de Feature de Uso de Solos"
   ]
  },
  {
   "cell_type": "code",
   "execution_count": 35,
   "metadata": {},
   "outputs": [],
   "source": [
    "df_feature_uso_solo = pd.read_csv(\"../dados/feature_uso_solos.csv\")"
   ]
  },
  {
   "attachments": {},
   "cell_type": "markdown",
   "metadata": {},
   "source": [
    "Preparar o dataset de alagamentos (o target)"
   ]
  },
  {
   "cell_type": "code",
   "execution_count": 7,
   "metadata": {},
   "outputs": [],
   "source": [
    "df_alagamentos = pd.read_csv(\"../dados/alagamentos.csv\")"
   ]
  },
  {
   "cell_type": "code",
   "execution_count": 8,
   "metadata": {},
   "outputs": [],
   "source": [
    "df_alagamentos[\"flooded\"] = df_alagamentos[\"NATUREZA\"]"
   ]
  },
  {
   "cell_type": "code",
   "execution_count": 9,
   "metadata": {},
   "outputs": [],
   "source": [
    "df_alagamentos[\"date\"] = df_alagamentos[\"DATA\"]\n",
    "df_alagamentos = df_alagamentos[[\"flooded\", \"date\", \"hex\", \"NOME\", \"geometry\"]]"
   ]
  },
  {
   "cell_type": "code",
   "execution_count": 10,
   "metadata": {},
   "outputs": [
    {
     "name": "stderr",
     "output_type": "stream",
     "text": [
      "/var/folders/ld/8dhf4gy93xbd1ybmf6nljm38dn1p1r/T/ipykernel_27314/3419792466.py:1: UserWarning: Parsing dates in DD/MM/YYYY format when dayfirst=False (the default) was specified. This may lead to inconsistently parsed dates! Specify a format to ensure consistent parsing.\n",
      "  df_alagamentos.date = df_alagamentos.date.astype('datetime64[ns]')\n"
     ]
    }
   ],
   "source": [
    "\n",
    "df_alagamentos.date = df_alagamentos.date.astype('datetime64[ns]')"
   ]
  },
  {
   "cell_type": "code",
   "execution_count": 11,
   "metadata": {},
   "outputs": [],
   "source": [
    "df_alagamentos['date'] = df_alagamentos['date'].dt.strftime('%Y-%m-%d')"
   ]
  },
  {
   "attachments": {},
   "cell_type": "markdown",
   "metadata": {},
   "source": [
    "Preparar a elevação"
   ]
  },
  {
   "cell_type": "code",
   "execution_count": 12,
   "metadata": {},
   "outputs": [],
   "source": [
    "df_merged = pd.merge(df_alagamentos, df_curva_niveis, on=\"geometry\", how=\"outer\")"
   ]
  },
  {
   "cell_type": "code",
   "execution_count": 13,
   "metadata": {},
   "outputs": [],
   "source": [
    "df_merged[\"elevation\"] = df_merged[\"Elevation\"]\n",
    "df_merged[\"hex\"] = df_merged[\"hex_x\"]\n",
    "df_merged[\"score_elevation\"] = df_merged[\"score\"]\n",
    "df_merged = df_merged[[\"flooded\", \"date\", \"hex\", \"geometry\", \"score_elevation\", \"elevation\"]]"
   ]
  },
  {
   "cell_type": "code",
   "execution_count": 14,
   "metadata": {},
   "outputs": [],
   "source": [
    "df_merged.drop_duplicates(inplace=True)"
   ]
  },
  {
   "cell_type": "code",
   "execution_count": 15,
   "metadata": {},
   "outputs": [],
   "source": [
    "df_merged = pd.merge(df_pluviometricos, df_merged, on=[\"geometry\", \"date\"], how=\"left\")"
   ]
  },
  {
   "cell_type": "code",
   "execution_count": 16,
   "metadata": {},
   "outputs": [],
   "source": [
    "df_merged = pd.merge(df_merged, df_curva_niveis, on=[\"geometry\"], how=\"left\")"
   ]
  },
  {
   "cell_type": "code",
   "execution_count": 17,
   "metadata": {},
   "outputs": [],
   "source": [
    "\n",
    "df_merged[\"value_precipitation\"] = df_merged[\"valorMedido\"]\n",
    "df_merged[\"value_precipitation_3_days\"] = df_merged[\"value_last_3_days\"]\n",
    "df_merged[\"value_precipitation_7_days\"] = df_merged[\"value_last_7_days\"]\n",
    "df_merged[\"hex\"] = df_merged[\"hex_x\"]\n",
    "df_merged = df_merged[[\"flooded\", \"date\", \"hex\", \"geometry\", \"score_elevation\", \"elevation\", \"value_precipitation\", \"value_precipitation_3_days\", \"value_precipitation_7_days\"]]"
   ]
  },
  {
   "cell_type": "code",
   "execution_count": 18,
   "metadata": {},
   "outputs": [],
   "source": [
    "df_merged = pd.merge(df_merged, df_curva_niveis[['geometry', 'score', 'Elevation']], on='geometry', how='left')"
   ]
  },
  {
   "cell_type": "code",
   "execution_count": 19,
   "metadata": {},
   "outputs": [],
   "source": [
    "df_merged['score_elevation'].fillna(df_merged['score'], inplace=True)\n",
    "df_merged['elevation'].fillna(df_merged['Elevation'], inplace=True)\n",
    "df_merged['flooded'].fillna(\"Nenhum\", inplace=True)"
   ]
  },
  {
   "cell_type": "code",
   "execution_count": 20,
   "metadata": {},
   "outputs": [],
   "source": [
    "df_merged.drop(columns='score', inplace=True)\n",
    "df_merged.drop(columns='Elevation', inplace=True)"
   ]
  },
  {
   "cell_type": "code",
   "execution_count": 21,
   "metadata": {},
   "outputs": [],
   "source": [
    "df_merged = pd.merge(df_merged, df_hidro[['hex', 'score_hidro', 'neighbors_hidro']], on='hex', how='left')"
   ]
  },
  {
   "cell_type": "code",
   "execution_count": 22,
   "metadata": {},
   "outputs": [],
   "source": [
    "df_merged[\"score_hidro\"].fillna(0.0, inplace=True)\n",
    "df_merged[\"neighbors_hidro\"].fillna(0.0, inplace=True)"
   ]
  },
  {
   "cell_type": "code",
   "execution_count": 33,
   "metadata": {},
   "outputs": [],
   "source": [
    "df_merged = pd.merge(df_merged, df_feature_solo, on=['hex', \"geometry\"], how='left')"
   ]
  },
  {
   "cell_type": "code",
   "execution_count": 36,
   "metadata": {},
   "outputs": [],
   "source": [
    "df_merged = pd.merge(df_merged, df_feature_uso_solo, on=[\"hex\", \"geometry\"], how=\"left\")"
   ]
  },
  {
   "cell_type": "code",
   "execution_count": 37,
   "metadata": {},
   "outputs": [
    {
     "data": {
      "text/html": [
       "<div>\n",
       "<style scoped>\n",
       "    .dataframe tbody tr th:only-of-type {\n",
       "        vertical-align: middle;\n",
       "    }\n",
       "\n",
       "    .dataframe tbody tr th {\n",
       "        vertical-align: top;\n",
       "    }\n",
       "\n",
       "    .dataframe thead th {\n",
       "        text-align: right;\n",
       "    }\n",
       "</style>\n",
       "<table border=\"1\" class=\"dataframe\">\n",
       "  <thead>\n",
       "    <tr style=\"text-align: right;\">\n",
       "      <th></th>\n",
       "      <th>flooded</th>\n",
       "      <th>date</th>\n",
       "      <th>hex</th>\n",
       "      <th>geometry</th>\n",
       "      <th>score_elevation</th>\n",
       "      <th>elevation</th>\n",
       "      <th>value_precipitation</th>\n",
       "      <th>value_precipitation_3_days</th>\n",
       "      <th>value_precipitation_7_days</th>\n",
       "      <th>score_hidro</th>\n",
       "      <th>...</th>\n",
       "      <th>VEGETACAO</th>\n",
       "      <th>MECANIZACA</th>\n",
       "      <th>PRIM_NIVEL</th>\n",
       "      <th>Unnamed: 0_y</th>\n",
       "      <th>SPRAREA</th>\n",
       "      <th>SPRPERIMET</th>\n",
       "      <th>SPRCLASSE</th>\n",
       "      <th>DESCLASSE</th>\n",
       "      <th>PERCLASSE</th>\n",
       "      <th>GRCLASSE</th>\n",
       "    </tr>\n",
       "  </thead>\n",
       "  <tbody>\n",
       "    <tr>\n",
       "      <th>0</th>\n",
       "      <td>Nenhum</td>\n",
       "      <td>2015-01-01</td>\n",
       "      <td>88a804cb05fffff</td>\n",
       "      <td>POLYGON ((-49.32705987407714 -25.3834767821367...</td>\n",
       "      <td>99.5</td>\n",
       "      <td>980.651163</td>\n",
       "      <td>11.598242</td>\n",
       "      <td>0.0</td>\n",
       "      <td>0.0</td>\n",
       "      <td>0.0</td>\n",
       "      <td>...</td>\n",
       "      <td>fl. subtrop. peren.</td>\n",
       "      <td>M2</td>\n",
       "      <td>Latossolo</td>\n",
       "      <td>718</td>\n",
       "      <td>4.643871e+08</td>\n",
       "      <td>2.213961e+05</td>\n",
       "      <td>Area urbana</td>\n",
       "      <td>área urbana</td>\n",
       "      <td>100%</td>\n",
       "      <td>Área urbana</td>\n",
       "    </tr>\n",
       "    <tr>\n",
       "      <th>1</th>\n",
       "      <td>Nenhum</td>\n",
       "      <td>2015-01-01</td>\n",
       "      <td>88a804cb05fffff</td>\n",
       "      <td>POLYGON ((-49.32705987407714 -25.3834767821367...</td>\n",
       "      <td>99.5</td>\n",
       "      <td>980.651163</td>\n",
       "      <td>11.598242</td>\n",
       "      <td>0.0</td>\n",
       "      <td>0.0</td>\n",
       "      <td>0.0</td>\n",
       "      <td>...</td>\n",
       "      <td>fl. subtrop. peren.</td>\n",
       "      <td>M2</td>\n",
       "      <td>Latossolo</td>\n",
       "      <td>719</td>\n",
       "      <td>4.643871e+08</td>\n",
       "      <td>2.213961e+05</td>\n",
       "      <td>Area urbana</td>\n",
       "      <td>área urbana</td>\n",
       "      <td>100%</td>\n",
       "      <td>Área urbana</td>\n",
       "    </tr>\n",
       "    <tr>\n",
       "      <th>2</th>\n",
       "      <td>Nenhum</td>\n",
       "      <td>2015-01-01</td>\n",
       "      <td>88a804cb05fffff</td>\n",
       "      <td>POLYGON ((-49.32705987407714 -25.3834767821367...</td>\n",
       "      <td>99.5</td>\n",
       "      <td>980.651163</td>\n",
       "      <td>11.598242</td>\n",
       "      <td>0.0</td>\n",
       "      <td>0.0</td>\n",
       "      <td>0.0</td>\n",
       "      <td>...</td>\n",
       "      <td>fl. subtrop. peren.</td>\n",
       "      <td>M2</td>\n",
       "      <td>Latossolo</td>\n",
       "      <td>718</td>\n",
       "      <td>4.695525e+09</td>\n",
       "      <td>1.095549e+06</td>\n",
       "      <td>VS+AC</td>\n",
       "      <td>vegetação secundária + agricultura cíclica</td>\n",
       "      <td>65% VS e 35% AC</td>\n",
       "      <td>Vegetação secundária</td>\n",
       "    </tr>\n",
       "    <tr>\n",
       "      <th>3</th>\n",
       "      <td>Nenhum</td>\n",
       "      <td>2015-01-01</td>\n",
       "      <td>88a804cb05fffff</td>\n",
       "      <td>POLYGON ((-49.32705987407714 -25.3834767821367...</td>\n",
       "      <td>99.5</td>\n",
       "      <td>980.651163</td>\n",
       "      <td>11.598242</td>\n",
       "      <td>0.0</td>\n",
       "      <td>0.0</td>\n",
       "      <td>0.0</td>\n",
       "      <td>...</td>\n",
       "      <td>fl. subtrop. peren.</td>\n",
       "      <td>M2</td>\n",
       "      <td>Latossolo</td>\n",
       "      <td>719</td>\n",
       "      <td>4.695525e+09</td>\n",
       "      <td>1.095549e+06</td>\n",
       "      <td>VS+AC</td>\n",
       "      <td>vegetação secundária + agricultura cíclica</td>\n",
       "      <td>65% VS e 35% AC</td>\n",
       "      <td>Vegetação secundária</td>\n",
       "    </tr>\n",
       "    <tr>\n",
       "      <th>4</th>\n",
       "      <td>Nenhum</td>\n",
       "      <td>2015-01-01</td>\n",
       "      <td>88a804cb05fffff</td>\n",
       "      <td>POLYGON ((-49.32705987407714 -25.3834767821367...</td>\n",
       "      <td>99.5</td>\n",
       "      <td>980.651163</td>\n",
       "      <td>11.598242</td>\n",
       "      <td>0.0</td>\n",
       "      <td>0.0</td>\n",
       "      <td>0.0</td>\n",
       "      <td>...</td>\n",
       "      <td>fl. subtrop. peren.</td>\n",
       "      <td>M2</td>\n",
       "      <td>Latossolo</td>\n",
       "      <td>718</td>\n",
       "      <td>4.643871e+08</td>\n",
       "      <td>2.213961e+05</td>\n",
       "      <td>Area urbana</td>\n",
       "      <td>área urbana</td>\n",
       "      <td>100%</td>\n",
       "      <td>Área urbana</td>\n",
       "    </tr>\n",
       "  </tbody>\n",
       "</table>\n",
       "<p>5 rows × 36 columns</p>\n",
       "</div>"
      ],
      "text/plain": [
       "  flooded       date              hex  \\\n",
       "0  Nenhum 2015-01-01  88a804cb05fffff   \n",
       "1  Nenhum 2015-01-01  88a804cb05fffff   \n",
       "2  Nenhum 2015-01-01  88a804cb05fffff   \n",
       "3  Nenhum 2015-01-01  88a804cb05fffff   \n",
       "4  Nenhum 2015-01-01  88a804cb05fffff   \n",
       "\n",
       "                                            geometry  score_elevation  \\\n",
       "0  POLYGON ((-49.32705987407714 -25.3834767821367...             99.5   \n",
       "1  POLYGON ((-49.32705987407714 -25.3834767821367...             99.5   \n",
       "2  POLYGON ((-49.32705987407714 -25.3834767821367...             99.5   \n",
       "3  POLYGON ((-49.32705987407714 -25.3834767821367...             99.5   \n",
       "4  POLYGON ((-49.32705987407714 -25.3834767821367...             99.5   \n",
       "\n",
       "    elevation  value_precipitation  value_precipitation_3_days  \\\n",
       "0  980.651163            11.598242                         0.0   \n",
       "1  980.651163            11.598242                         0.0   \n",
       "2  980.651163            11.598242                         0.0   \n",
       "3  980.651163            11.598242                         0.0   \n",
       "4  980.651163            11.598242                         0.0   \n",
       "\n",
       "   value_precipitation_7_days  score_hidro  ...            VEGETACAO  \\\n",
       "0                         0.0          0.0  ...  fl. subtrop. peren.   \n",
       "1                         0.0          0.0  ...  fl. subtrop. peren.   \n",
       "2                         0.0          0.0  ...  fl. subtrop. peren.   \n",
       "3                         0.0          0.0  ...  fl. subtrop. peren.   \n",
       "4                         0.0          0.0  ...  fl. subtrop. peren.   \n",
       "\n",
       "   MECANIZACA  PRIM_NIVEL  Unnamed: 0_y       SPRAREA    SPRPERIMET  \\\n",
       "0          M2   Latossolo           718  4.643871e+08  2.213961e+05   \n",
       "1          M2   Latossolo           719  4.643871e+08  2.213961e+05   \n",
       "2          M2   Latossolo           718  4.695525e+09  1.095549e+06   \n",
       "3          M2   Latossolo           719  4.695525e+09  1.095549e+06   \n",
       "4          M2   Latossolo           718  4.643871e+08  2.213961e+05   \n",
       "\n",
       "     SPRCLASSE                                   DESCLASSE        PERCLASSE  \\\n",
       "0  Area urbana                                 área urbana             100%   \n",
       "1  Area urbana                                 área urbana             100%   \n",
       "2        VS+AC  vegetação secundária + agricultura cíclica  65% VS e 35% AC   \n",
       "3        VS+AC  vegetação secundária + agricultura cíclica  65% VS e 35% AC   \n",
       "4  Area urbana                                 área urbana             100%   \n",
       "\n",
       "               GRCLASSE  \n",
       "0           Área urbana  \n",
       "1           Área urbana  \n",
       "2  Vegetação secundária  \n",
       "3  Vegetação secundária  \n",
       "4           Área urbana  \n",
       "\n",
       "[5 rows x 36 columns]"
      ]
     },
     "execution_count": 37,
     "metadata": {},
     "output_type": "execute_result"
    }
   ],
   "source": [
    "df_merged.head()"
   ]
  },
  {
   "cell_type": "code",
   "execution_count": 23,
   "metadata": {},
   "outputs": [],
   "source": [
    "df_merged['date'] = pd.to_datetime(df_merged['date'])\n",
    "df_merged['year'] = df_merged['date'].dt.year\n",
    "df_merged['month'] = df_merged['date'].dt.month\n",
    "df_merged['day'] = df_merged['date'].dt.day"
   ]
  },
  {
   "cell_type": "code",
   "execution_count": 24,
   "metadata": {},
   "outputs": [],
   "source": [
    "df_merged.drop_duplicates(inplace=True)"
   ]
  },
  {
   "cell_type": "code",
   "execution_count": 25,
   "metadata": {},
   "outputs": [
    {
     "data": {
      "text/html": [
       "<div>\n",
       "<style scoped>\n",
       "    .dataframe tbody tr th:only-of-type {\n",
       "        vertical-align: middle;\n",
       "    }\n",
       "\n",
       "    .dataframe tbody tr th {\n",
       "        vertical-align: top;\n",
       "    }\n",
       "\n",
       "    .dataframe thead th {\n",
       "        text-align: right;\n",
       "    }\n",
       "</style>\n",
       "<table border=\"1\" class=\"dataframe\">\n",
       "  <thead>\n",
       "    <tr style=\"text-align: right;\">\n",
       "      <th></th>\n",
       "      <th>flooded</th>\n",
       "      <th>date</th>\n",
       "      <th>hex</th>\n",
       "      <th>geometry</th>\n",
       "      <th>score_elevation</th>\n",
       "      <th>elevation</th>\n",
       "      <th>value_precipitation</th>\n",
       "      <th>value_precipitation_3_days</th>\n",
       "      <th>value_precipitation_7_days</th>\n",
       "      <th>score_hidro</th>\n",
       "      <th>neighbors_hidro</th>\n",
       "      <th>year</th>\n",
       "      <th>month</th>\n",
       "      <th>day</th>\n",
       "    </tr>\n",
       "  </thead>\n",
       "  <tbody>\n",
       "    <tr>\n",
       "      <th>862896</th>\n",
       "      <td>Alagamento</td>\n",
       "      <td>2015-10-22</td>\n",
       "      <td>88a804cb41fffff</td>\n",
       "      <td>POLYGON ((-49.33694002968239 -25.4052233804035...</td>\n",
       "      <td>99.5</td>\n",
       "      <td>967.049180</td>\n",
       "      <td>60.544994</td>\n",
       "      <td>52.215987</td>\n",
       "      <td>54.987237</td>\n",
       "      <td>100.0</td>\n",
       "      <td>0.0</td>\n",
       "      <td>2015</td>\n",
       "      <td>10</td>\n",
       "      <td>22</td>\n",
       "    </tr>\n",
       "    <tr>\n",
       "      <th>862900</th>\n",
       "      <td>Alagamento</td>\n",
       "      <td>2015-10-22</td>\n",
       "      <td>88a804cb41fffff</td>\n",
       "      <td>POLYGON ((-49.33694002968239 -25.4052233804035...</td>\n",
       "      <td>99.5</td>\n",
       "      <td>967.049180</td>\n",
       "      <td>60.544994</td>\n",
       "      <td>52.215987</td>\n",
       "      <td>54.987237</td>\n",
       "      <td>99.0</td>\n",
       "      <td>0.0</td>\n",
       "      <td>2015</td>\n",
       "      <td>10</td>\n",
       "      <td>22</td>\n",
       "    </tr>\n",
       "    <tr>\n",
       "      <th>924221</th>\n",
       "      <td>Alagamento</td>\n",
       "      <td>2015-10-21</td>\n",
       "      <td>88a804cb49fffff</td>\n",
       "      <td>POLYGON ((-49.34023347844297 -25.4124704980994...</td>\n",
       "      <td>99.5</td>\n",
       "      <td>953.672131</td>\n",
       "      <td>59.109061</td>\n",
       "      <td>0.000000</td>\n",
       "      <td>1.403529</td>\n",
       "      <td>0.0</td>\n",
       "      <td>0.0</td>\n",
       "      <td>2015</td>\n",
       "      <td>10</td>\n",
       "      <td>21</td>\n",
       "    </tr>\n",
       "    <tr>\n",
       "      <th>3129076</th>\n",
       "      <td>Alagamento</td>\n",
       "      <td>2015-08-02</td>\n",
       "      <td>88a804d86dfffff</td>\n",
       "      <td>POLYGON ((-49.355572751255856 -25.503956849950...</td>\n",
       "      <td>96.0</td>\n",
       "      <td>920.290698</td>\n",
       "      <td>0.000000</td>\n",
       "      <td>0.000000</td>\n",
       "      <td>0.294974</td>\n",
       "      <td>96.0</td>\n",
       "      <td>103424.0</td>\n",
       "      <td>2015</td>\n",
       "      <td>8</td>\n",
       "      <td>2</td>\n",
       "    </tr>\n",
       "    <tr>\n",
       "      <th>3161950</th>\n",
       "      <td>Alagamento</td>\n",
       "      <td>2017-12-22</td>\n",
       "      <td>88a804d905fffff</td>\n",
       "      <td>POLYGON ((-49.309048293845166 -25.478700437163...</td>\n",
       "      <td>100.0</td>\n",
       "      <td>915.345455</td>\n",
       "      <td>41.254045</td>\n",
       "      <td>9.868296</td>\n",
       "      <td>25.355981</td>\n",
       "      <td>0.0</td>\n",
       "      <td>0.0</td>\n",
       "      <td>2017</td>\n",
       "      <td>12</td>\n",
       "      <td>22</td>\n",
       "    </tr>\n",
       "    <tr>\n",
       "      <th>...</th>\n",
       "      <td>...</td>\n",
       "      <td>...</td>\n",
       "      <td>...</td>\n",
       "      <td>...</td>\n",
       "      <td>...</td>\n",
       "      <td>...</td>\n",
       "      <td>...</td>\n",
       "      <td>...</td>\n",
       "      <td>...</td>\n",
       "      <td>...</td>\n",
       "      <td>...</td>\n",
       "      <td>...</td>\n",
       "      <td>...</td>\n",
       "      <td>...</td>\n",
       "    </tr>\n",
       "    <tr>\n",
       "      <th>8451853</th>\n",
       "      <td>Alagamento</td>\n",
       "      <td>2016-08-20</td>\n",
       "      <td>88a831adb1fffff</td>\n",
       "      <td>POLYGON ((-49.2122644072129 -25.49699169415437...</td>\n",
       "      <td>99.5</td>\n",
       "      <td>892.905660</td>\n",
       "      <td>56.589717</td>\n",
       "      <td>51.774454</td>\n",
       "      <td>63.194167</td>\n",
       "      <td>0.0</td>\n",
       "      <td>0.0</td>\n",
       "      <td>2016</td>\n",
       "      <td>8</td>\n",
       "      <td>20</td>\n",
       "    </tr>\n",
       "    <tr>\n",
       "      <th>8452962</th>\n",
       "      <td>Alagamento</td>\n",
       "      <td>2016-09-02</td>\n",
       "      <td>88a831adbbfffff</td>\n",
       "      <td>POLYGON ((-49.2214295394814 -25.49788388919803...</td>\n",
       "      <td>99.5</td>\n",
       "      <td>878.187500</td>\n",
       "      <td>0.204890</td>\n",
       "      <td>12.220728</td>\n",
       "      <td>12.285600</td>\n",
       "      <td>0.0</td>\n",
       "      <td>0.0</td>\n",
       "      <td>2016</td>\n",
       "      <td>9</td>\n",
       "      <td>2</td>\n",
       "    </tr>\n",
       "    <tr>\n",
       "      <th>9951242</th>\n",
       "      <td>Alagamento</td>\n",
       "      <td>2016-10-20</td>\n",
       "      <td>88a831ae95fffff</td>\n",
       "      <td>POLYGON ((-49.3119299050174 -25.56199807088341...</td>\n",
       "      <td>98.0</td>\n",
       "      <td>920.306306</td>\n",
       "      <td>29.058548</td>\n",
       "      <td>81.846152</td>\n",
       "      <td>123.845441</td>\n",
       "      <td>0.0</td>\n",
       "      <td>0.0</td>\n",
       "      <td>2016</td>\n",
       "      <td>10</td>\n",
       "      <td>20</td>\n",
       "    </tr>\n",
       "    <tr>\n",
       "      <th>10916412</th>\n",
       "      <td>Alagamento</td>\n",
       "      <td>2015-09-10</td>\n",
       "      <td>88a831ae9bfffff</td>\n",
       "      <td>POLYGON ((-49.330254284209296 -25.563764979069...</td>\n",
       "      <td>99.5</td>\n",
       "      <td>893.704918</td>\n",
       "      <td>19.291447</td>\n",
       "      <td>49.208366</td>\n",
       "      <td>74.716444</td>\n",
       "      <td>0.0</td>\n",
       "      <td>0.0</td>\n",
       "      <td>2015</td>\n",
       "      <td>9</td>\n",
       "      <td>10</td>\n",
       "    </tr>\n",
       "    <tr>\n",
       "      <th>11669296</th>\n",
       "      <td>Alagamento</td>\n",
       "      <td>2016-01-26</td>\n",
       "      <td>88a831aedbfffff</td>\n",
       "      <td>POLYGON ((-49.3309753796436 -25.58457331210153...</td>\n",
       "      <td>97.0</td>\n",
       "      <td>891.627451</td>\n",
       "      <td>11.790933</td>\n",
       "      <td>4.065427</td>\n",
       "      <td>7.964830</td>\n",
       "      <td>97.0</td>\n",
       "      <td>106920.0</td>\n",
       "      <td>2016</td>\n",
       "      <td>1</td>\n",
       "      <td>26</td>\n",
       "    </tr>\n",
       "  </tbody>\n",
       "</table>\n",
       "<p>159 rows × 14 columns</p>\n",
       "</div>"
      ],
      "text/plain": [
       "             flooded       date              hex  \\\n",
       "862896    Alagamento 2015-10-22  88a804cb41fffff   \n",
       "862900    Alagamento 2015-10-22  88a804cb41fffff   \n",
       "924221    Alagamento 2015-10-21  88a804cb49fffff   \n",
       "3129076   Alagamento 2015-08-02  88a804d86dfffff   \n",
       "3161950   Alagamento 2017-12-22  88a804d905fffff   \n",
       "...              ...        ...              ...   \n",
       "8451853   Alagamento 2016-08-20  88a831adb1fffff   \n",
       "8452962   Alagamento 2016-09-02  88a831adbbfffff   \n",
       "9951242   Alagamento 2016-10-20  88a831ae95fffff   \n",
       "10916412  Alagamento 2015-09-10  88a831ae9bfffff   \n",
       "11669296  Alagamento 2016-01-26  88a831aedbfffff   \n",
       "\n",
       "                                                   geometry  score_elevation  \\\n",
       "862896    POLYGON ((-49.33694002968239 -25.4052233804035...             99.5   \n",
       "862900    POLYGON ((-49.33694002968239 -25.4052233804035...             99.5   \n",
       "924221    POLYGON ((-49.34023347844297 -25.4124704980994...             99.5   \n",
       "3129076   POLYGON ((-49.355572751255856 -25.503956849950...             96.0   \n",
       "3161950   POLYGON ((-49.309048293845166 -25.478700437163...            100.0   \n",
       "...                                                     ...              ...   \n",
       "8451853   POLYGON ((-49.2122644072129 -25.49699169415437...             99.5   \n",
       "8452962   POLYGON ((-49.2214295394814 -25.49788388919803...             99.5   \n",
       "9951242   POLYGON ((-49.3119299050174 -25.56199807088341...             98.0   \n",
       "10916412  POLYGON ((-49.330254284209296 -25.563764979069...             99.5   \n",
       "11669296  POLYGON ((-49.3309753796436 -25.58457331210153...             97.0   \n",
       "\n",
       "           elevation  value_precipitation  value_precipitation_3_days  \\\n",
       "862896    967.049180            60.544994                   52.215987   \n",
       "862900    967.049180            60.544994                   52.215987   \n",
       "924221    953.672131            59.109061                    0.000000   \n",
       "3129076   920.290698             0.000000                    0.000000   \n",
       "3161950   915.345455            41.254045                    9.868296   \n",
       "...              ...                  ...                         ...   \n",
       "8451853   892.905660            56.589717                   51.774454   \n",
       "8452962   878.187500             0.204890                   12.220728   \n",
       "9951242   920.306306            29.058548                   81.846152   \n",
       "10916412  893.704918            19.291447                   49.208366   \n",
       "11669296  891.627451            11.790933                    4.065427   \n",
       "\n",
       "          value_precipitation_7_days  score_hidro  neighbors_hidro  year  \\\n",
       "862896                     54.987237        100.0              0.0  2015   \n",
       "862900                     54.987237         99.0              0.0  2015   \n",
       "924221                      1.403529          0.0              0.0  2015   \n",
       "3129076                     0.294974         96.0         103424.0  2015   \n",
       "3161950                    25.355981          0.0              0.0  2017   \n",
       "...                              ...          ...              ...   ...   \n",
       "8451853                    63.194167          0.0              0.0  2016   \n",
       "8452962                    12.285600          0.0              0.0  2016   \n",
       "9951242                   123.845441          0.0              0.0  2016   \n",
       "10916412                   74.716444          0.0              0.0  2015   \n",
       "11669296                    7.964830         97.0         106920.0  2016   \n",
       "\n",
       "          month  day  \n",
       "862896       10   22  \n",
       "862900       10   22  \n",
       "924221       10   21  \n",
       "3129076       8    2  \n",
       "3161950      12   22  \n",
       "...         ...  ...  \n",
       "8451853       8   20  \n",
       "8452962       9    2  \n",
       "9951242      10   20  \n",
       "10916412      9   10  \n",
       "11669296      1   26  \n",
       "\n",
       "[159 rows x 14 columns]"
      ]
     },
     "execution_count": 25,
     "metadata": {},
     "output_type": "execute_result"
    }
   ],
   "source": [
    "df_merged[df_merged[\"flooded\"] == \"Alagamento\"]"
   ]
  },
  {
   "attachments": {},
   "cell_type": "markdown",
   "metadata": {},
   "source": [
    "Rodar modelo de classificação"
   ]
  },
  {
   "cell_type": "code",
   "execution_count": null,
   "metadata": {},
   "outputs": [],
   "source": [
    "import pandas as pd\n",
    "import geopandas as gpd\n",
    "from sklearn.tree import DecisionTreeClassifier\n",
    "from sklearn.model_selection import train_test_split\n",
    "\n",
    "features = ['elevation', 'score_elevation', 'value_precipitation', 'value_precipitation_3_days', 'value_precipitation_7_days', \"date\"]\n",
    "target = 'flooded'\n",
    "\n",
    "# Dividir os dados em conjunto de treinamento e teste\n",
    "X_train, X_test, y_train, y_test = train_test_split(df_merged[features], df_merged[target], test_size=0.2, random_state=42)\n",
    "\n",
    "# Criar e treinar a árvore de decisão\n",
    "clf = DecisionTreeClassifier()\n",
    "clf.fit(X_train, y_train)\n",
    "\n",
    "# Avaliar o desempenho do modelo no conjunto de teste\n",
    "score = clf.score(X_test, y_test)\n",
    "print(\"Acurácia do modelo:\", score)\n"
   ]
  },
  {
   "cell_type": "code",
   "execution_count": 26,
   "metadata": {},
   "outputs": [],
   "source": [
    "features_elevation = ['elevation', 'score_elevation']\n",
    "features_precipitation = ['value_precipitation', 'value_precipitation_3_days', 'value_precipitation_7_days']\n",
    "features_hidro = ['score_hidro', 'neighbors_hidro']\n",
    "date = [\"year\", \"month\", \"day\"]"
   ]
  },
  {
   "cell_type": "code",
   "execution_count": 27,
   "metadata": {},
   "outputs": [],
   "source": [
    "features = df_merged[features_elevation+features_precipitation+features_hidro+date]\n",
    "target = df_merged[['flooded']]"
   ]
  },
  {
   "cell_type": "code",
   "execution_count": 28,
   "metadata": {},
   "outputs": [],
   "source": [
    "train_features, test_features, train_labels, test_labels = train_test_split(features, target, test_size=0.2)"
   ]
  },
  {
   "cell_type": "code",
   "execution_count": 29,
   "metadata": {},
   "outputs": [
    {
     "name": "stderr",
     "output_type": "stream",
     "text": [
      "/var/folders/ld/8dhf4gy93xbd1ybmf6nljm38dn1p1r/T/ipykernel_27314/2852299628.py:2: DataConversionWarning: A column-vector y was passed when a 1d array was expected. Please change the shape of y to (n_samples,), for example using ravel().\n",
      "  rf.fit(train_features, train_labels)\n"
     ]
    },
    {
     "data": {
      "text/html": [
       "<style>#sk-container-id-1 {color: black;background-color: white;}#sk-container-id-1 pre{padding: 0;}#sk-container-id-1 div.sk-toggleable {background-color: white;}#sk-container-id-1 label.sk-toggleable__label {cursor: pointer;display: block;width: 100%;margin-bottom: 0;padding: 0.3em;box-sizing: border-box;text-align: center;}#sk-container-id-1 label.sk-toggleable__label-arrow:before {content: \"▸\";float: left;margin-right: 0.25em;color: #696969;}#sk-container-id-1 label.sk-toggleable__label-arrow:hover:before {color: black;}#sk-container-id-1 div.sk-estimator:hover label.sk-toggleable__label-arrow:before {color: black;}#sk-container-id-1 div.sk-toggleable__content {max-height: 0;max-width: 0;overflow: hidden;text-align: left;background-color: #f0f8ff;}#sk-container-id-1 div.sk-toggleable__content pre {margin: 0.2em;color: black;border-radius: 0.25em;background-color: #f0f8ff;}#sk-container-id-1 input.sk-toggleable__control:checked~div.sk-toggleable__content {max-height: 200px;max-width: 100%;overflow: auto;}#sk-container-id-1 input.sk-toggleable__control:checked~label.sk-toggleable__label-arrow:before {content: \"▾\";}#sk-container-id-1 div.sk-estimator input.sk-toggleable__control:checked~label.sk-toggleable__label {background-color: #d4ebff;}#sk-container-id-1 div.sk-label input.sk-toggleable__control:checked~label.sk-toggleable__label {background-color: #d4ebff;}#sk-container-id-1 input.sk-hidden--visually {border: 0;clip: rect(1px 1px 1px 1px);clip: rect(1px, 1px, 1px, 1px);height: 1px;margin: -1px;overflow: hidden;padding: 0;position: absolute;width: 1px;}#sk-container-id-1 div.sk-estimator {font-family: monospace;background-color: #f0f8ff;border: 1px dotted black;border-radius: 0.25em;box-sizing: border-box;margin-bottom: 0.5em;}#sk-container-id-1 div.sk-estimator:hover {background-color: #d4ebff;}#sk-container-id-1 div.sk-parallel-item::after {content: \"\";width: 100%;border-bottom: 1px solid gray;flex-grow: 1;}#sk-container-id-1 div.sk-label:hover label.sk-toggleable__label {background-color: #d4ebff;}#sk-container-id-1 div.sk-serial::before {content: \"\";position: absolute;border-left: 1px solid gray;box-sizing: border-box;top: 0;bottom: 0;left: 50%;z-index: 0;}#sk-container-id-1 div.sk-serial {display: flex;flex-direction: column;align-items: center;background-color: white;padding-right: 0.2em;padding-left: 0.2em;position: relative;}#sk-container-id-1 div.sk-item {position: relative;z-index: 1;}#sk-container-id-1 div.sk-parallel {display: flex;align-items: stretch;justify-content: center;background-color: white;position: relative;}#sk-container-id-1 div.sk-item::before, #sk-container-id-1 div.sk-parallel-item::before {content: \"\";position: absolute;border-left: 1px solid gray;box-sizing: border-box;top: 0;bottom: 0;left: 50%;z-index: -1;}#sk-container-id-1 div.sk-parallel-item {display: flex;flex-direction: column;z-index: 1;position: relative;background-color: white;}#sk-container-id-1 div.sk-parallel-item:first-child::after {align-self: flex-end;width: 50%;}#sk-container-id-1 div.sk-parallel-item:last-child::after {align-self: flex-start;width: 50%;}#sk-container-id-1 div.sk-parallel-item:only-child::after {width: 0;}#sk-container-id-1 div.sk-dashed-wrapped {border: 1px dashed gray;margin: 0 0.4em 0.5em 0.4em;box-sizing: border-box;padding-bottom: 0.4em;background-color: white;}#sk-container-id-1 div.sk-label label {font-family: monospace;font-weight: bold;display: inline-block;line-height: 1.2em;}#sk-container-id-1 div.sk-label-container {text-align: center;}#sk-container-id-1 div.sk-container {/* jupyter's `normalize.less` sets `[hidden] { display: none; }` but bootstrap.min.css set `[hidden] { display: none !important; }` so we also need the `!important` here to be able to override the default hidden behavior on the sphinx rendered scikit-learn.org. See: https://github.com/scikit-learn/scikit-learn/issues/21755 */display: inline-block !important;position: relative;}#sk-container-id-1 div.sk-text-repr-fallback {display: none;}</style><div id=\"sk-container-id-1\" class=\"sk-top-container\"><div class=\"sk-text-repr-fallback\"><pre>RandomForestClassifier()</pre><b>In a Jupyter environment, please rerun this cell to show the HTML representation or trust the notebook. <br />On GitHub, the HTML representation is unable to render, please try loading this page with nbviewer.org.</b></div><div class=\"sk-container\" hidden><div class=\"sk-item\"><div class=\"sk-estimator sk-toggleable\"><input class=\"sk-toggleable__control sk-hidden--visually\" id=\"sk-estimator-id-1\" type=\"checkbox\" checked><label for=\"sk-estimator-id-1\" class=\"sk-toggleable__label sk-toggleable__label-arrow\">RandomForestClassifier</label><div class=\"sk-toggleable__content\"><pre>RandomForestClassifier()</pre></div></div></div></div></div>"
      ],
      "text/plain": [
       "RandomForestClassifier()"
      ]
     },
     "execution_count": 29,
     "metadata": {},
     "output_type": "execute_result"
    }
   ],
   "source": [
    "rf = RandomForestClassifier()\n",
    "rf.fit(train_features, train_labels)"
   ]
  },
  {
   "cell_type": "code",
   "execution_count": 30,
   "metadata": {},
   "outputs": [],
   "source": [
    "predictions = rf.predict(test_features)"
   ]
  },
  {
   "cell_type": "code",
   "execution_count": 31,
   "metadata": {},
   "outputs": [
    {
     "name": "stdout",
     "output_type": "stream",
     "text": [
      "Accuracy: 0.9996578467153284\n",
      "Recall for nothing: 1.0\n",
      "Recall for flooded: 0.0\n",
      "[[    0    33]\n",
      " [    0 96415]]\n"
     ]
    }
   ],
   "source": [
    "print(\"Accuracy: \" + str(accuracy_score(test_labels, predictions)))\n",
    "print(\"Recall for nothing: \" + str(recall_score(test_labels, predictions, average=\"binary\", pos_label=\"Nenhum\")))\n",
    "print(\"Recall for flooded: \" + str(recall_score(test_labels, predictions, average=\"binary\", pos_label=\"Alagamento\")))\n",
    "print(confusion_matrix(test_labels, predictions))"
   ]
  },
  {
   "cell_type": "code",
   "execution_count": null,
   "metadata": {},
   "outputs": [],
   "source": [
    "print(\"Len: \" + str(len(predictions)))\n",
    "alagamentos = []\n",
    "nenhum = []\n",
    "for f in predictions:\n",
    "    if f == \"Nenhum\":\n",
    "        nenhum.append(f)\n",
    "    if f == \"Alagamento\":\n",
    "        alagamentos.append(f)\n",
    "\n",
    "print(\"Len alagamentos: \" + str(len(alagamentos)))\n",
    "print(\"Len nenhum: \" + str(len(nenhum)))"
   ]
  },
  {
   "attachments": {},
   "cell_type": "markdown",
   "metadata": {},
   "source": [
    "Verificar a porcentagem de flooded"
   ]
  },
  {
   "cell_type": "code",
   "execution_count": null,
   "metadata": {},
   "outputs": [],
   "source": [
    "\n",
    "total_alagamentos = len(df_merged[df_merged['flooded'] == \"Alagamento\"])\n",
    "total_nenhum = len(df_merged[df_merged['flooded'] == \"Nenhum\"])\n",
    "\n",
    "print(\"Alagamentos: \" + str(total_alagamentos))\n",
    "print(\"Nenhum: \" + str(total_nenhum))\n",
    "print(\"Porcentagem: \" + str(100*total_alagamentos/(total_alagamentos+total_nenhum)) + \"%\")"
   ]
  }
 ],
 "metadata": {
  "kernelspec": {
   "display_name": "Python 3",
   "language": "python",
   "name": "python3"
  },
  "language_info": {
   "codemirror_mode": {
    "name": "ipython",
    "version": 3
   },
   "file_extension": ".py",
   "mimetype": "text/x-python",
   "name": "python",
   "nbconvert_exporter": "python",
   "pygments_lexer": "ipython3",
   "version": "3.10.6"
  },
  "orig_nbformat": 4
 },
 "nbformat": 4,
 "nbformat_minor": 2
}
