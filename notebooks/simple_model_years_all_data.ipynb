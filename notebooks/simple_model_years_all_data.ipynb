{
 "cells": [
  {
   "attachments": {},
   "cell_type": "markdown",
   "metadata": {},
   "source": [
    "Classification Model"
   ]
  },
  {
   "cell_type": "code",
   "execution_count": 1,
   "metadata": {},
   "outputs": [],
   "source": [
    "import geopandas as gpd\n",
    "import matplotlib.pyplot as plt\n",
    "import pandas as pd\n",
    "from datetime import datetime, timedelta\n",
    "import numpy as np\n",
    "from sklearn.tree import DecisionTreeClassifier\n",
    "from sklearn.ensemble import RandomForestClassifier\n",
    "from sklearn.model_selection import train_test_split\n",
    "from sklearn.metrics import accuracy_score, recall_score, confusion_matrix"
   ]
  },
  {
   "cell_type": "code",
   "execution_count": null,
   "metadata": {},
   "outputs": [],
   "source": [
    "df_pluviometricos = pd.read_csv(\"../dados/dados_pluviometricos_geo_anos.csv\")"
   ]
  },
  {
   "cell_type": "code",
   "execution_count": null,
   "metadata": {},
   "outputs": [],
   "source": [
    "df_curva_niveis = pd.read_csv(\"../dados/dados_curva_niveis.csv\")"
   ]
  },
  {
   "cell_type": "code",
   "execution_count": null,
   "metadata": {},
   "outputs": [],
   "source": [
    "df_curva_niveis = df_curva_niveis[[\"score\", \"hex\", \"geometry\", \"Elevation\"]]"
   ]
  },
  {
   "cell_type": "code",
   "execution_count": null,
   "metadata": {},
   "outputs": [],
   "source": [
    "df_curva_niveis = df_curva_niveis.groupby([\"hex\", \"geometry\"], as_index=False)[\"Elevation\", \"score\"].mean()"
   ]
  },
  {
   "attachments": {},
   "cell_type": "markdown",
   "metadata": {},
   "source": [
    "Preparar dados de Lagos, Rios e Cavas"
   ]
  },
  {
   "cell_type": "code",
   "execution_count": null,
   "metadata": {},
   "outputs": [],
   "source": [
    "df_hidro = pd.read_csv(\"../dados/lagos_rios.csv\")"
   ]
  },
  {
   "attachments": {},
   "cell_type": "markdown",
   "metadata": {},
   "source": [
    "Preparar Feature do Solo"
   ]
  },
  {
   "cell_type": "code",
   "execution_count": null,
   "metadata": {},
   "outputs": [],
   "source": [
    "df_feature_solo = pd.read_csv(\"../dados/feature_solo.csv\")"
   ]
  },
  {
   "attachments": {},
   "cell_type": "markdown",
   "metadata": {},
   "source": [
    "Preparar o dataset de Feature de Uso de Solos"
   ]
  },
  {
   "cell_type": "code",
   "execution_count": null,
   "metadata": {},
   "outputs": [],
   "source": [
    "df_feature_uso_solo = pd.read_csv(\"../dados/feature_uso_solos.csv\")"
   ]
  },
  {
   "attachments": {},
   "cell_type": "markdown",
   "metadata": {},
   "source": [
    "Preparar o dataset de alagamentos (o target)"
   ]
  },
  {
   "cell_type": "code",
   "execution_count": null,
   "metadata": {},
   "outputs": [],
   "source": [
    "df_alagamentos = pd.read_csv(\"../dados/alagamentos.csv\")"
   ]
  },
  {
   "cell_type": "code",
   "execution_count": null,
   "metadata": {},
   "outputs": [],
   "source": [
    "df_alagamentos[\"flooded\"] = df_alagamentos[\"NATUREZA\"]"
   ]
  },
  {
   "cell_type": "code",
   "execution_count": null,
   "metadata": {},
   "outputs": [],
   "source": [
    "df_alagamentos[\"date\"] = df_alagamentos[\"DATA\"]\n",
    "df_alagamentos = df_alagamentos[[\"flooded\", \"date\", \"hex\", \"NOME\", \"geometry\"]]"
   ]
  },
  {
   "cell_type": "code",
   "execution_count": null,
   "metadata": {},
   "outputs": [],
   "source": [
    "\n",
    "df_alagamentos.date = df_alagamentos.date.astype('datetime64[ns]')"
   ]
  },
  {
   "cell_type": "code",
   "execution_count": null,
   "metadata": {},
   "outputs": [],
   "source": [
    "df_alagamentos['date'] = df_alagamentos['date'].dt.strftime('%Y-%m-%d')"
   ]
  },
  {
   "cell_type": "code",
   "execution_count": null,
   "metadata": {},
   "outputs": [],
   "source": [
    "print(len(df_alagamentos))\n",
    "print(len(df_alagamentos[df_alagamentos[\"flooded\"] == \"Alagamento\"]))"
   ]
  },
  {
   "attachments": {},
   "cell_type": "markdown",
   "metadata": {},
   "source": [
    "Preparar a elevação"
   ]
  },
  {
   "cell_type": "code",
   "execution_count": null,
   "metadata": {},
   "outputs": [],
   "source": [
    "df_merged = pd.merge(df_alagamentos, df_curva_niveis, on=\"geometry\", how=\"left\")"
   ]
  },
  {
   "cell_type": "code",
   "execution_count": null,
   "metadata": {},
   "outputs": [],
   "source": [
    "df_merged[\"elevation\"] = df_merged[\"Elevation\"]\n",
    "df_merged[\"hex\"] = df_merged[\"hex_x\"]\n",
    "df_merged[\"score_elevation\"] = df_merged[\"score\"]\n",
    "df_merged = df_merged[[\"flooded\", \"date\", \"hex\", \"geometry\", \"score_elevation\", \"elevation\"]]"
   ]
  },
  {
   "cell_type": "code",
   "execution_count": null,
   "metadata": {},
   "outputs": [],
   "source": [
    "df_merged.drop_duplicates(inplace=True)"
   ]
  },
  {
   "cell_type": "code",
   "execution_count": null,
   "metadata": {},
   "outputs": [],
   "source": [
    "print(len(df_merged))\n",
    "print(len(df_merged[df_merged[\"flooded\"] == \"Alagamento\"]))"
   ]
  },
  {
   "cell_type": "code",
   "execution_count": null,
   "metadata": {},
   "outputs": [],
   "source": [
    "df_merged = pd.merge(df_merged, df_pluviometricos, on=[\"geometry\", \"date\"], how=\"outer\")"
   ]
  },
  {
   "cell_type": "code",
   "execution_count": null,
   "metadata": {},
   "outputs": [],
   "source": [
    "\n",
    "df_merged[\"value_precipitation\"] = df_merged[\"valorMedido\"]\n",
    "df_merged[\"value_precipitation_3_days\"] = df_merged[\"value_last_3_days\"]\n",
    "df_merged[\"value_precipitation_7_days\"] = df_merged[\"value_last_7_days\"]\n",
    "df_merged[\"hex\"] = df_merged[\"hex_x\"]\n",
    "df_merged = df_merged[[\"flooded\", \"date\", \"hex\", \"geometry\", \"score_elevation\", \"elevation\", \"value_precipitation\", \"value_precipitation_3_days\", \"value_precipitation_7_days\"]]"
   ]
  },
  {
   "cell_type": "code",
   "execution_count": null,
   "metadata": {},
   "outputs": [],
   "source": [
    "df_merged = pd.merge(df_merged, df_curva_niveis[['geometry', 'score', 'Elevation']], on='geometry', how='left')"
   ]
  },
  {
   "cell_type": "code",
   "execution_count": null,
   "metadata": {},
   "outputs": [],
   "source": [
    "print(len(df_merged))\n",
    "print(len(df_merged[df_merged[\"flooded\"] == \"Alagamento\"]))\n",
    "print(len(df_merged[df_merged[\"flooded\"].isna()]))\n",
    "print(len(df_merged[df_merged[\"value_precipitation\"].isna()]))"
   ]
  },
  {
   "cell_type": "code",
   "execution_count": null,
   "metadata": {},
   "outputs": [],
   "source": [
    "df_merged['score_elevation'].fillna(df_merged['score'], inplace=True)\n",
    "df_merged['elevation'].fillna(df_merged['Elevation'], inplace=True)\n",
    "df_merged['flooded'].fillna(\"Nenhum\", inplace=True)"
   ]
  },
  {
   "cell_type": "code",
   "execution_count": null,
   "metadata": {},
   "outputs": [],
   "source": [
    "df_merged.drop(columns='score', inplace=True)\n",
    "df_merged.drop(columns='Elevation', inplace=True)"
   ]
  },
  {
   "cell_type": "code",
   "execution_count": null,
   "metadata": {},
   "outputs": [],
   "source": [
    "print(len(df_merged))\n",
    "print(len(df_merged[df_merged[\"flooded\"] == \"Alagamento\"]))\n",
    "print(len(df_merged[df_merged[\"flooded\"].isna()]))\n",
    "print(len(df_merged[df_merged[\"value_precipitation\"].isna()]))"
   ]
  },
  {
   "attachments": {},
   "cell_type": "markdown",
   "metadata": {},
   "source": [
    "Pegar apenas as linhas que possuem valores válidos de precipitação "
   ]
  },
  {
   "cell_type": "code",
   "execution_count": null,
   "metadata": {},
   "outputs": [],
   "source": [
    "df_merged = df_merged[df_merged['value_precipitation'].notna()]"
   ]
  },
  {
   "cell_type": "code",
   "execution_count": null,
   "metadata": {},
   "outputs": [],
   "source": [
    "print(len(df_merged))\n",
    "print(len(df_merged[df_merged[\"flooded\"] == \"Alagamento\"]))\n",
    "print(len(df_merged[df_merged[\"flooded\"].isna()]))\n",
    "print(len(df_merged[df_merged[\"value_precipitation\"].isna()]))"
   ]
  },
  {
   "cell_type": "code",
   "execution_count": null,
   "metadata": {},
   "outputs": [],
   "source": [
    "df_merged = pd.merge(df_merged, df_hidro[['hex', 'score_hidro', 'neighbors_hidro']], on='hex', how='left')"
   ]
  },
  {
   "cell_type": "code",
   "execution_count": null,
   "metadata": {},
   "outputs": [],
   "source": [
    "df_merged[\"score_hidro\"].fillna(0.0, inplace=True)\n",
    "df_merged[\"neighbors_hidro\"].fillna(0.0, inplace=True)"
   ]
  },
  {
   "cell_type": "code",
   "execution_count": null,
   "metadata": {},
   "outputs": [],
   "source": [
    "df_merged = pd.merge(df_merged, df_feature_solo, on=['hex', \"geometry\"], how='left')"
   ]
  },
  {
   "cell_type": "code",
   "execution_count": null,
   "metadata": {},
   "outputs": [],
   "source": [
    "df_merged = pd.merge(df_merged, df_feature_uso_solo, on=[\"hex\", \"geometry\"], how=\"left\")"
   ]
  },
  {
   "cell_type": "code",
   "execution_count": null,
   "metadata": {},
   "outputs": [],
   "source": [
    "df_merged.drop(columns=[\"Unnamed: 0_x\", \"Unnamed: 0_y\"], inplace=True)"
   ]
  },
  {
   "cell_type": "code",
   "execution_count": null,
   "metadata": {},
   "outputs": [],
   "source": [
    "df_merged = df_merged[df_merged['value_precipitation'].notna()]\n",
    "print(len(df_merged))\n",
    "print(len(df_merged[df_merged[\"flooded\"] == \"Alagamento\"]))\n",
    "print(len(df_merged[df_merged[\"flooded\"].isna()]))\n",
    "print(len(df_merged[df_merged[\"value_precipitation\"].isna()]))"
   ]
  },
  {
   "cell_type": "code",
   "execution_count": null,
   "metadata": {},
   "outputs": [],
   "source": [
    "df_merged.drop_duplicates(inplace=True)\n",
    "print(len(df_merged))\n",
    "print(len(df_merged[df_merged[\"flooded\"] == \"Alagamento\"]))\n",
    "print(len(df_merged[df_merged[\"flooded\"].isna()]))\n",
    "print(len(df_merged[df_merged[\"value_precipitation\"].isna()]))"
   ]
  },
  {
   "cell_type": "code",
   "execution_count": null,
   "metadata": {},
   "outputs": [],
   "source": [
    "df_merged.head()"
   ]
  },
  {
   "cell_type": "code",
   "execution_count": null,
   "metadata": {},
   "outputs": [],
   "source": [
    "df_merged['date'] = pd.to_datetime(df_merged['date'])\n",
    "df_merged['year'] = df_merged['date'].dt.year\n",
    "df_merged['month'] = df_merged['date'].dt.month\n",
    "df_merged['day'] = df_merged['date'].dt.day"
   ]
  },
  {
   "cell_type": "code",
   "execution_count": null,
   "metadata": {},
   "outputs": [],
   "source": [
    "# df_merged.to_csv(\"../dados/dados_complestos.csv\")"
   ]
  },
  {
   "cell_type": "code",
   "execution_count": 3,
   "metadata": {},
   "outputs": [
    {
     "name": "stderr",
     "output_type": "stream",
     "text": [
      "/var/folders/ld/8dhf4gy93xbd1ybmf6nljm38dn1p1r/T/ipykernel_18315/888267823.py:1: DtypeWarning: Columns (3,12,13,14,15,16,18,19,20,21,22,23,24,25,28,29,30,31) have mixed types. Specify dtype option on import or set low_memory=False.\n",
      "  df_merged = pd.read_csv(\"../dados/dados_complestos.csv\")\n"
     ]
    }
   ],
   "source": [
    "df_merged = pd.read_csv(\"../dados/dados_complestos.csv\")"
   ]
  },
  {
   "attachments": {},
   "cell_type": "markdown",
   "metadata": {},
   "source": [
    "Rodar modelo de classificação"
   ]
  },
  {
   "cell_type": "code",
   "execution_count": 4,
   "metadata": {},
   "outputs": [],
   "source": [
    "features_elevation = ['elevation', 'score_elevation']\n",
    "features_precipitation = ['value_precipitation', 'value_precipitation_3_days', 'value_precipitation_7_days']\n",
    "features_hidro = ['score_hidro', 'neighbors_hidro']\n",
    "date = [\"year\", \"month\", \"day\"]"
   ]
  },
  {
   "cell_type": "code",
   "execution_count": 5,
   "metadata": {},
   "outputs": [],
   "source": [
    "# features = df_merged[features_precipitation+date]\n",
    "# features = df_merged[features_elevation+date]\n",
    "# features = df_merged[features_hidro+date]\n",
    "features = df_merged[features_precipitation+features_elevation+date]\n",
    "# features = df_merged[features_elevation+features_precipitation+features_hidro+date]\n",
    "target = df_merged[['flooded']]"
   ]
  },
  {
   "cell_type": "code",
   "execution_count": 6,
   "metadata": {},
   "outputs": [],
   "source": [
    "train_features, test_features, train_labels, test_labels = train_test_split(features, target, test_size=0.2)"
   ]
  },
  {
   "cell_type": "code",
   "execution_count": 7,
   "metadata": {},
   "outputs": [
    {
     "name": "stderr",
     "output_type": "stream",
     "text": [
      "/var/folders/ld/8dhf4gy93xbd1ybmf6nljm38dn1p1r/T/ipykernel_18315/2852299628.py:2: DataConversionWarning: A column-vector y was passed when a 1d array was expected. Please change the shape of y to (n_samples,), for example using ravel().\n",
      "  rf.fit(train_features, train_labels)\n"
     ]
    },
    {
     "data": {
      "text/html": [
       "<style>#sk-container-id-1 {color: black;background-color: white;}#sk-container-id-1 pre{padding: 0;}#sk-container-id-1 div.sk-toggleable {background-color: white;}#sk-container-id-1 label.sk-toggleable__label {cursor: pointer;display: block;width: 100%;margin-bottom: 0;padding: 0.3em;box-sizing: border-box;text-align: center;}#sk-container-id-1 label.sk-toggleable__label-arrow:before {content: \"▸\";float: left;margin-right: 0.25em;color: #696969;}#sk-container-id-1 label.sk-toggleable__label-arrow:hover:before {color: black;}#sk-container-id-1 div.sk-estimator:hover label.sk-toggleable__label-arrow:before {color: black;}#sk-container-id-1 div.sk-toggleable__content {max-height: 0;max-width: 0;overflow: hidden;text-align: left;background-color: #f0f8ff;}#sk-container-id-1 div.sk-toggleable__content pre {margin: 0.2em;color: black;border-radius: 0.25em;background-color: #f0f8ff;}#sk-container-id-1 input.sk-toggleable__control:checked~div.sk-toggleable__content {max-height: 200px;max-width: 100%;overflow: auto;}#sk-container-id-1 input.sk-toggleable__control:checked~label.sk-toggleable__label-arrow:before {content: \"▾\";}#sk-container-id-1 div.sk-estimator input.sk-toggleable__control:checked~label.sk-toggleable__label {background-color: #d4ebff;}#sk-container-id-1 div.sk-label input.sk-toggleable__control:checked~label.sk-toggleable__label {background-color: #d4ebff;}#sk-container-id-1 input.sk-hidden--visually {border: 0;clip: rect(1px 1px 1px 1px);clip: rect(1px, 1px, 1px, 1px);height: 1px;margin: -1px;overflow: hidden;padding: 0;position: absolute;width: 1px;}#sk-container-id-1 div.sk-estimator {font-family: monospace;background-color: #f0f8ff;border: 1px dotted black;border-radius: 0.25em;box-sizing: border-box;margin-bottom: 0.5em;}#sk-container-id-1 div.sk-estimator:hover {background-color: #d4ebff;}#sk-container-id-1 div.sk-parallel-item::after {content: \"\";width: 100%;border-bottom: 1px solid gray;flex-grow: 1;}#sk-container-id-1 div.sk-label:hover label.sk-toggleable__label {background-color: #d4ebff;}#sk-container-id-1 div.sk-serial::before {content: \"\";position: absolute;border-left: 1px solid gray;box-sizing: border-box;top: 0;bottom: 0;left: 50%;z-index: 0;}#sk-container-id-1 div.sk-serial {display: flex;flex-direction: column;align-items: center;background-color: white;padding-right: 0.2em;padding-left: 0.2em;position: relative;}#sk-container-id-1 div.sk-item {position: relative;z-index: 1;}#sk-container-id-1 div.sk-parallel {display: flex;align-items: stretch;justify-content: center;background-color: white;position: relative;}#sk-container-id-1 div.sk-item::before, #sk-container-id-1 div.sk-parallel-item::before {content: \"\";position: absolute;border-left: 1px solid gray;box-sizing: border-box;top: 0;bottom: 0;left: 50%;z-index: -1;}#sk-container-id-1 div.sk-parallel-item {display: flex;flex-direction: column;z-index: 1;position: relative;background-color: white;}#sk-container-id-1 div.sk-parallel-item:first-child::after {align-self: flex-end;width: 50%;}#sk-container-id-1 div.sk-parallel-item:last-child::after {align-self: flex-start;width: 50%;}#sk-container-id-1 div.sk-parallel-item:only-child::after {width: 0;}#sk-container-id-1 div.sk-dashed-wrapped {border: 1px dashed gray;margin: 0 0.4em 0.5em 0.4em;box-sizing: border-box;padding-bottom: 0.4em;background-color: white;}#sk-container-id-1 div.sk-label label {font-family: monospace;font-weight: bold;display: inline-block;line-height: 1.2em;}#sk-container-id-1 div.sk-label-container {text-align: center;}#sk-container-id-1 div.sk-container {/* jupyter's `normalize.less` sets `[hidden] { display: none; }` but bootstrap.min.css set `[hidden] { display: none !important; }` so we also need the `!important` here to be able to override the default hidden behavior on the sphinx rendered scikit-learn.org. See: https://github.com/scikit-learn/scikit-learn/issues/21755 */display: inline-block !important;position: relative;}#sk-container-id-1 div.sk-text-repr-fallback {display: none;}</style><div id=\"sk-container-id-1\" class=\"sk-top-container\"><div class=\"sk-text-repr-fallback\"><pre>RandomForestClassifier()</pre><b>In a Jupyter environment, please rerun this cell to show the HTML representation or trust the notebook. <br />On GitHub, the HTML representation is unable to render, please try loading this page with nbviewer.org.</b></div><div class=\"sk-container\" hidden><div class=\"sk-item\"><div class=\"sk-estimator sk-toggleable\"><input class=\"sk-toggleable__control sk-hidden--visually\" id=\"sk-estimator-id-1\" type=\"checkbox\" checked><label for=\"sk-estimator-id-1\" class=\"sk-toggleable__label sk-toggleable__label-arrow\">RandomForestClassifier</label><div class=\"sk-toggleable__content\"><pre>RandomForestClassifier()</pre></div></div></div></div></div>"
      ],
      "text/plain": [
       "RandomForestClassifier()"
      ]
     },
     "execution_count": 7,
     "metadata": {},
     "output_type": "execute_result"
    }
   ],
   "source": [
    "rf = RandomForestClassifier()\n",
    "rf.fit(train_features, train_labels)"
   ]
  },
  {
   "cell_type": "code",
   "execution_count": 8,
   "metadata": {},
   "outputs": [],
   "source": [
    "predictions = rf.predict(test_features)"
   ]
  },
  {
   "cell_type": "code",
   "execution_count": 9,
   "metadata": {},
   "outputs": [
    {
     "name": "stdout",
     "output_type": "stream",
     "text": [
      "Accuracy: 0.9996981452703836\n",
      "Recall for nothing: 1.0\n",
      "Recall for flooded: 0.325\n",
      "[[   13    27]\n",
      " [    0 89407]]\n"
     ]
    }
   ],
   "source": [
    "print(\"Accuracy: \" + str(accuracy_score(test_labels, predictions)))\n",
    "print(\"Recall for nothing: \" + str(recall_score(test_labels, predictions, average=\"binary\", pos_label=\"Nenhum\")))\n",
    "print(\"Recall for flooded: \" + str(recall_score(test_labels, predictions, average=\"binary\", pos_label=\"Alagamento\")))\n",
    "print(confusion_matrix(test_labels, predictions))"
   ]
  },
  {
   "cell_type": "code",
   "execution_count": 10,
   "metadata": {},
   "outputs": [
    {
     "name": "stderr",
     "output_type": "stream",
     "text": [
      "/Users/cnoboa/opt/anaconda3/envs/geo_env/lib/python3.10/site-packages/sklearn/model_selection/_validation.py:686: DataConversionWarning: A column-vector y was passed when a 1d array was expected. Please change the shape of y to (n_samples,), for example using ravel().\n",
      "  estimator.fit(X_train, y_train, **fit_params)\n",
      "/Users/cnoboa/opt/anaconda3/envs/geo_env/lib/python3.10/site-packages/sklearn/model_selection/_validation.py:686: DataConversionWarning: A column-vector y was passed when a 1d array was expected. Please change the shape of y to (n_samples,), for example using ravel().\n",
      "  estimator.fit(X_train, y_train, **fit_params)\n",
      "/Users/cnoboa/opt/anaconda3/envs/geo_env/lib/python3.10/site-packages/sklearn/model_selection/_validation.py:686: DataConversionWarning: A column-vector y was passed when a 1d array was expected. Please change the shape of y to (n_samples,), for example using ravel().\n",
      "  estimator.fit(X_train, y_train, **fit_params)\n",
      "/Users/cnoboa/opt/anaconda3/envs/geo_env/lib/python3.10/site-packages/sklearn/model_selection/_validation.py:686: DataConversionWarning: A column-vector y was passed when a 1d array was expected. Please change the shape of y to (n_samples,), for example using ravel().\n",
      "  estimator.fit(X_train, y_train, **fit_params)\n",
      "/Users/cnoboa/opt/anaconda3/envs/geo_env/lib/python3.10/site-packages/sklearn/model_selection/_validation.py:686: DataConversionWarning: A column-vector y was passed when a 1d array was expected. Please change the shape of y to (n_samples,), for example using ravel().\n",
      "  estimator.fit(X_train, y_train, **fit_params)\n",
      "/Users/cnoboa/opt/anaconda3/envs/geo_env/lib/python3.10/site-packages/sklearn/model_selection/_validation.py:686: DataConversionWarning: A column-vector y was passed when a 1d array was expected. Please change the shape of y to (n_samples,), for example using ravel().\n",
      "  estimator.fit(X_train, y_train, **fit_params)\n",
      "/Users/cnoboa/opt/anaconda3/envs/geo_env/lib/python3.10/site-packages/sklearn/model_selection/_validation.py:686: DataConversionWarning: A column-vector y was passed when a 1d array was expected. Please change the shape of y to (n_samples,), for example using ravel().\n",
      "  estimator.fit(X_train, y_train, **fit_params)\n",
      "/Users/cnoboa/opt/anaconda3/envs/geo_env/lib/python3.10/site-packages/sklearn/model_selection/_validation.py:686: DataConversionWarning: A column-vector y was passed when a 1d array was expected. Please change the shape of y to (n_samples,), for example using ravel().\n",
      "  estimator.fit(X_train, y_train, **fit_params)\n",
      "/Users/cnoboa/opt/anaconda3/envs/geo_env/lib/python3.10/site-packages/sklearn/model_selection/_validation.py:686: DataConversionWarning: A column-vector y was passed when a 1d array was expected. Please change the shape of y to (n_samples,), for example using ravel().\n",
      "  estimator.fit(X_train, y_train, **fit_params)\n",
      "/Users/cnoboa/opt/anaconda3/envs/geo_env/lib/python3.10/site-packages/sklearn/model_selection/_validation.py:686: DataConversionWarning: A column-vector y was passed when a 1d array was expected. Please change the shape of y to (n_samples,), for example using ravel().\n",
      "  estimator.fit(X_train, y_train, **fit_params)\n"
     ]
    }
   ],
   "source": [
    "from sklearn.model_selection import cross_validate\n",
    "\n",
    "scoring = [\"accuracy\", \"precision_macro\", \"recall_macro\", \"f1_macro\"]\n",
    "\n",
    "result_cross_validate = cross_validate(RandomForestClassifier(random_state=42), train_features, train_labels, cv=10, scoring=scoring)\n"
   ]
  },
  {
   "cell_type": "code",
   "execution_count": null,
   "metadata": {},
   "outputs": [],
   "source": [
    "result_cross_validate"
   ]
  },
  {
   "cell_type": "code",
   "execution_count": 11,
   "metadata": {},
   "outputs": [
    {
     "name": "stdout",
     "output_type": "stream",
     "text": [
      "fit_time_average: 35.73533661365509\n",
      "score_time_average: 1.4907492637634276\n",
      "accuracy_average: 0.999740068960274\n",
      "precision_average: 0.9898727986294465\n",
      "recall_average: 0.745748837644544\n",
      "f1_average: 0.8240960004912428\n"
     ]
    }
   ],
   "source": [
    "print(\"fit_time_average: \" + str(result_cross_validate[\"fit_time\"].mean()))\n",
    "print(\"score_time_average: \" + str(result_cross_validate[\"score_time\"].mean()))\n",
    "print(\"accuracy_average: \" + str(result_cross_validate[\"test_accuracy\"].mean()))\n",
    "print(\"precision_average: \" + str(result_cross_validate[\"test_precision_macro\"].mean()))\n",
    "print(\"recall_average: \" + str(result_cross_validate[\"test_recall_macro\"].mean()))\n",
    "print(\"f1_average: \" + str(result_cross_validate[\"test_f1_macro\"].mean()))"
   ]
  },
  {
   "cell_type": "code",
   "execution_count": null,
   "metadata": {},
   "outputs": [],
   "source": [
    "print(\"Len: \" + str(len(predictions)))\n",
    "alagamentos = []\n",
    "nenhum = []\n",
    "for f in predictions:\n",
    "    if f == \"Nenhum\":\n",
    "        nenhum.append(f)\n",
    "    if f == \"Alagamento\":\n",
    "        alagamentos.append(f)\n",
    "\n",
    "print(\"Len alagamentos: \" + str(len(alagamentos)))\n",
    "print(\"Len nenhum: \" + str(len(nenhum)))"
   ]
  },
  {
   "attachments": {},
   "cell_type": "markdown",
   "metadata": {},
   "source": [
    "Verificar a porcentagem de flooded"
   ]
  },
  {
   "cell_type": "code",
   "execution_count": null,
   "metadata": {},
   "outputs": [],
   "source": [
    "\n",
    "total_alagamentos = len(df_merged[df_merged['flooded'] == \"Alagamento\"])\n",
    "total_nenhum = len(df_merged[df_merged['flooded'] == \"Nenhum\"])\n",
    "\n",
    "print(\"Alagamentos: \" + str(total_alagamentos))\n",
    "print(\"Nenhum: \" + str(total_nenhum))\n",
    "print(\"Porcentagem: \" + str(100*total_alagamentos/(total_alagamentos+total_nenhum)) + \"%\")"
   ]
  },
  {
   "cell_type": "code",
   "execution_count": null,
   "metadata": {},
   "outputs": [],
   "source": []
  },
  {
   "attachments": {},
   "cell_type": "markdown",
   "metadata": {},
   "source": [
    "Comparação entre Features"
   ]
  },
  {
   "cell_type": "code",
   "execution_count": 18,
   "metadata": {},
   "outputs": [
    {
     "data": {
      "text/plain": [
       "{'precipitation': 0.7771401645082686,\n",
       " 'elevation': 0.7860634203058349,\n",
       " 'hydro': 0.6246381378776635,\n",
       " 'all_features': 0.7905460967619067,\n",
       " 'preci+eleva': 0.8240960004912428}"
      ]
     },
     "execution_count": 18,
     "metadata": {},
     "output_type": "execute_result"
    }
   ],
   "source": [
    "precipitation = {\n",
    "    \"name\": \"precipitation\",\n",
    "    \"tempo\": 6.42,\n",
    "    \"fit_time_average\": 38.83778891563416,\n",
    "    \"score_time_average\": 1.3207797527313232,\n",
    "    \"accuracy_average\": 0.9996701951021427,\n",
    "    \"precision_average\": 0.9417331467356099,\n",
    "    \"recall_average\": 0.7113867304439336,\n",
    "    \"f1_average\": 0.7771401645082686,\n",
    "}\n",
    "\n",
    "elevation = {\n",
    "    \"name\": \"elevation\",\n",
    "    \"tempo\": 3.5,\n",
    "    \"fit_time_average\": 17.123146200180052,\n",
    "    \"score_time_average\": 1.325027585029602,\n",
    "    \"accuracy_average\": 0.9997205035519299,\n",
    "    \"precision_average\": 0.9827215610566521,\n",
    "    \"recall_average\": 0.7106575703095958,\n",
    "    \"f1_average\": 0.7860634203058349  \n",
    "}\n",
    "\n",
    "hydro = {\n",
    "    \"name\": \"hydro\",\n",
    "    \"tempo\": 2.21,\n",
    "    \"fit_time_average\": 12.78098750114441,\n",
    "    \"score_time_average\": 1.3389266014099122,\n",
    "    \"accuracy_average\": 0.9995779616031598,\n",
    "    \"precision_average\": 0.8997889663871487,\n",
    "    \"recall_average\": 0.5763071895424836,\n",
    "    \"f1_average\": 0.6246381378776635\n",
    "}\n",
    "\n",
    "all = {\n",
    "    \"name\": \"all_features\",\n",
    "    \"tempo\": 7.28,\n",
    "    \"fit_time_average\": 43.50116457939148,\n",
    "    \"score_time_average\": 1.310783290863037,\n",
    "    \"accuracy_average\": 0.9997121190576751,\n",
    "    \"precision_average\": 0.9881705144520222,\n",
    "    \"recall_average\": 0.7142128899321256,\n",
    "    \"f1_average\": 0.7905460967619067\n",
    "}\n",
    "\n",
    "precipitation_plus_elevation = {\n",
    "    \"name\": \"preci+eleva\",\n",
    "    \"tempo\": 6.13,\n",
    "    \"fit_time_average\": 35.73533661365509,\n",
    "    \"score_time_average\": 1.4907492637634276,\n",
    "    \"accuracy_average\": 0.999740068960274,\n",
    "    \"precision_average\": 0.9898727986294465,\n",
    "    \"recall_average\": 0.745748837644544,\n",
    "    \"f1_average\": 0.8240960004912428\n",
    "}\n",
    "\n",
    "list_features = [precipitation, elevation, hydro, all_features, precipitation_plus_elevation]\n",
    "\n",
    "only_f_score = {}\n",
    "for feature in list_features:\n",
    "    only_f_score[feature[\"name\"]] = feature[\"f1_average\"]\n",
    "\n",
    "only_f_score"
   ]
  },
  {
   "cell_type": "code",
   "execution_count": 19,
   "metadata": {},
   "outputs": [
    {
     "data": {
      "image/png": "[encoded data removed]",
      "text/plain": [
       "<Figure size 640x480 with 1 Axes>"
      ]
     },
     "metadata": {},
     "output_type": "display_data"
    }
   ],
   "source": [
    "plt.bar(range(len(only_f_score)), list(only_f_score.values()), align='center')\n",
    "plt.xticks(range(len(only_f_score)), list(only_f_score.keys()))\n",
    "plt.show()"
   ]
  }
 ],
 "metadata": {
  "kernelspec": {
   "display_name": "Python 3",
   "language": "python",
   "name": "python3"
  },
  "language_info": {
   "codemirror_mode": {
    "name": "ipython",
    "version": 3
   },
   "file_extension": ".py",
   "mimetype": "text/x-python",
   "name": "python",
   "nbconvert_exporter": "python",
   "pygments_lexer": "ipython3",
   "version": "3.10.6"
  },
  "orig_nbformat": 4
 },
 "nbformat": 4,
 "nbformat_minor": 2
}
