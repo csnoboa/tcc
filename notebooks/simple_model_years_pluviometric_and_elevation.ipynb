{
 "cells": [
  {
   "attachments": {},
   "cell_type": "markdown",
   "metadata": {},
   "source": [
    "Classification Model"
   ]
  },
  {
   "cell_type": "code",
   "execution_count": 69,
   "metadata": {},
   "outputs": [],
   "source": [
    "import geopandas as gpd\n",
    "import matplotlib.pyplot as plt\n",
    "import pandas as pd\n",
    "from datetime import datetime, timedelta\n",
    "import numpy as np\n",
    "from sklearn.tree import DecisionTreeClassifier\n",
    "from sklearn.ensemble import RandomForestClassifier\n",
    "from sklearn.model_selection import train_test_split\n",
    "from sklearn.metrics import accuracy_score, recall_score, confusion_matrix"
   ]
  },
  {
   "cell_type": "code",
   "execution_count": 70,
   "metadata": {},
   "outputs": [],
   "source": [
    "df_pluviometricos = pd.read_csv(\"../dados/dados_pluviometricos_geo_anos.csv\")"
   ]
  },
  {
   "cell_type": "code",
   "execution_count": 71,
   "metadata": {},
   "outputs": [],
   "source": [
    "df_curva_niveis = pd.read_csv(\"../dados/dados_curva_niveis.csv\")"
   ]
  },
  {
   "cell_type": "code",
   "execution_count": 72,
   "metadata": {},
   "outputs": [],
   "source": [
    "df_curva_niveis = df_curva_niveis[[\"score\", \"hex\", \"geometry\", \"Elevation\"]]"
   ]
  },
  {
   "cell_type": "code",
   "execution_count": 73,
   "metadata": {},
   "outputs": [
    {
     "name": "stderr",
     "output_type": "stream",
     "text": [
      "/var/folders/ld/8dhf4gy93xbd1ybmf6nljm38dn1p1r/T/ipykernel_24491/975208766.py:1: FutureWarning: Indexing with multiple keys (implicitly converted to a tuple of keys) will be deprecated, use a list instead.\n",
      "  df_curva_niveis = df_curva_niveis.groupby([\"hex\", \"geometry\"], as_index=False)[\"Elevation\", \"score\"].mean()\n"
     ]
    }
   ],
   "source": [
    "df_curva_niveis = df_curva_niveis.groupby([\"hex\", \"geometry\"], as_index=False)[\"Elevation\", \"score\"].mean()"
   ]
  },
  {
   "attachments": {},
   "cell_type": "markdown",
   "metadata": {},
   "source": [
    "Preparar o dataset de alagamentos (o target)"
   ]
  },
  {
   "cell_type": "code",
   "execution_count": 74,
   "metadata": {},
   "outputs": [],
   "source": [
    "df_alagamentos = pd.read_csv(\"../dados/alagamentos.csv\")"
   ]
  },
  {
   "cell_type": "code",
   "execution_count": 75,
   "metadata": {},
   "outputs": [],
   "source": [
    "df_alagamentos[\"flooded\"] = df_alagamentos[\"NATUREZA\"]"
   ]
  },
  {
   "cell_type": "code",
   "execution_count": 76,
   "metadata": {},
   "outputs": [],
   "source": [
    "df_alagamentos[\"date\"] = df_alagamentos[\"DATA\"]\n",
    "df_alagamentos = df_alagamentos[[\"flooded\", \"date\", \"hex\", \"NOME\", \"geometry\"]]"
   ]
  },
  {
   "cell_type": "code",
   "execution_count": 77,
   "metadata": {},
   "outputs": [
    {
     "name": "stderr",
     "output_type": "stream",
     "text": [
      "/var/folders/ld/8dhf4gy93xbd1ybmf6nljm38dn1p1r/T/ipykernel_24491/3419792466.py:1: UserWarning: Parsing dates in DD/MM/YYYY format when dayfirst=False (the default) was specified. This may lead to inconsistently parsed dates! Specify a format to ensure consistent parsing.\n",
      "  df_alagamentos.date = df_alagamentos.date.astype('datetime64[ns]')\n"
     ]
    }
   ],
   "source": [
    "\n",
    "df_alagamentos.date = df_alagamentos.date.astype('datetime64[ns]')"
   ]
  },
  {
   "cell_type": "code",
   "execution_count": 78,
   "metadata": {},
   "outputs": [],
   "source": [
    "df_alagamentos['date'] = df_alagamentos['date'].dt.strftime('%Y-%m-%d')"
   ]
  },
  {
   "attachments": {},
   "cell_type": "markdown",
   "metadata": {},
   "source": [
    "Preparar a elevação"
   ]
  },
  {
   "cell_type": "code",
   "execution_count": 79,
   "metadata": {},
   "outputs": [],
   "source": [
    "df_merged = pd.merge(df_alagamentos, df_curva_niveis, on=\"geometry\", how=\"outer\")"
   ]
  },
  {
   "cell_type": "code",
   "execution_count": 80,
   "metadata": {},
   "outputs": [],
   "source": [
    "df_merged[\"elevation\"] = df_merged[\"Elevation\"]\n",
    "df_merged[\"hex\"] = df_merged[\"hex_x\"]\n",
    "df_merged[\"score_elevation\"] = df_merged[\"score\"]\n",
    "df_merged = df_merged[[\"flooded\", \"date\", \"hex\", \"geometry\", \"score_elevation\", \"elevation\"]]"
   ]
  },
  {
   "cell_type": "code",
   "execution_count": 81,
   "metadata": {},
   "outputs": [],
   "source": [
    "df_merged.drop_duplicates(inplace=True)"
   ]
  },
  {
   "cell_type": "code",
   "execution_count": 82,
   "metadata": {},
   "outputs": [],
   "source": [
    "df_merged = pd.merge(df_pluviometricos, df_merged, on=[\"geometry\", \"date\"], how=\"left\")"
   ]
  },
  {
   "cell_type": "code",
   "execution_count": 83,
   "metadata": {},
   "outputs": [],
   "source": [
    "df_merged = pd.merge(df_merged, df_curva_niveis, on=[\"geometry\"], how=\"left\")"
   ]
  },
  {
   "cell_type": "code",
   "execution_count": 84,
   "metadata": {},
   "outputs": [],
   "source": [
    "\n",
    "df_merged[\"value_precipitation\"] = df_merged[\"valorMedido\"]\n",
    "df_merged[\"value_precipitation_3_days\"] = df_merged[\"value_last_3_days\"]\n",
    "df_merged[\"value_precipitation_7_days\"] = df_merged[\"value_last_7_days\"]\n",
    "df_merged[\"hex\"] = df_merged[\"hex_x\"]\n",
    "df_merged = df_merged[[\"flooded\", \"date\", \"hex\", \"geometry\", \"score_elevation\", \"elevation\", \"value_precipitation\", \"value_precipitation_3_days\", \"value_precipitation_7_days\"]]"
   ]
  },
  {
   "cell_type": "code",
   "execution_count": 85,
   "metadata": {},
   "outputs": [],
   "source": [
    "df_merged = pd.merge(df_merged, df_curva_niveis[['geometry', 'score', 'Elevation']], on='geometry', how='left')"
   ]
  },
  {
   "cell_type": "code",
   "execution_count": 86,
   "metadata": {},
   "outputs": [],
   "source": [
    "df_merged['score_elevation'].fillna(df_merged['score'], inplace=True)\n",
    "df_merged['elevation'].fillna(df_merged['Elevation'], inplace=True)\n",
    "df_merged['flooded'].fillna(\"Nenhum\", inplace=True)"
   ]
  },
  {
   "cell_type": "code",
   "execution_count": 87,
   "metadata": {},
   "outputs": [],
   "source": [
    "df_merged.drop(columns='score', inplace=True)\n",
    "df_merged.drop(columns='Elevation', inplace=True)"
   ]
  },
  {
   "cell_type": "code",
   "execution_count": 88,
   "metadata": {},
   "outputs": [],
   "source": [
    "df_merged['date'] = pd.to_datetime(df_merged['date'])\n",
    "df_merged['year'] = df_merged['date'].dt.year\n",
    "df_merged['month'] = df_merged['date'].dt.month\n",
    "df_merged['day'] = df_merged['date'].dt.day"
   ]
  },
  {
   "cell_type": "code",
   "execution_count": 98,
   "metadata": {},
   "outputs": [],
   "source": [
    "df_merged.drop_duplicates(inplace=True)"
   ]
  },
  {
   "cell_type": "code",
   "execution_count": 99,
   "metadata": {},
   "outputs": [
    {
     "data": {
      "text/html": [
       "<div>\n",
       "<style scoped>\n",
       "    .dataframe tbody tr th:only-of-type {\n",
       "        vertical-align: middle;\n",
       "    }\n",
       "\n",
       "    .dataframe tbody tr th {\n",
       "        vertical-align: top;\n",
       "    }\n",
       "\n",
       "    .dataframe thead th {\n",
       "        text-align: right;\n",
       "    }\n",
       "</style>\n",
       "<table border=\"1\" class=\"dataframe\">\n",
       "  <thead>\n",
       "    <tr style=\"text-align: right;\">\n",
       "      <th></th>\n",
       "      <th>flooded</th>\n",
       "      <th>date</th>\n",
       "      <th>hex</th>\n",
       "      <th>geometry</th>\n",
       "      <th>score_elevation</th>\n",
       "      <th>elevation</th>\n",
       "      <th>value_precipitation</th>\n",
       "      <th>value_precipitation_3_days</th>\n",
       "      <th>value_precipitation_7_days</th>\n",
       "      <th>year</th>\n",
       "      <th>month</th>\n",
       "      <th>day</th>\n",
       "    </tr>\n",
       "  </thead>\n",
       "  <tbody>\n",
       "    <tr>\n",
       "      <th>9062</th>\n",
       "      <td>Alagamento</td>\n",
       "      <td>2015-10-22</td>\n",
       "      <td>88a804cb41fffff</td>\n",
       "      <td>POLYGON ((-49.33694002968239 -25.4052233804035...</td>\n",
       "      <td>99.5</td>\n",
       "      <td>967.049180</td>\n",
       "      <td>60.544994</td>\n",
       "      <td>52.215987</td>\n",
       "      <td>54.987237</td>\n",
       "      <td>2015</td>\n",
       "      <td>10</td>\n",
       "      <td>22</td>\n",
       "    </tr>\n",
       "    <tr>\n",
       "      <th>13445</th>\n",
       "      <td>Alagamento</td>\n",
       "      <td>2015-10-21</td>\n",
       "      <td>88a804cb49fffff</td>\n",
       "      <td>POLYGON ((-49.34023347844297 -25.4124704980994...</td>\n",
       "      <td>99.5</td>\n",
       "      <td>953.672131</td>\n",
       "      <td>59.109061</td>\n",
       "      <td>0.000000</td>\n",
       "      <td>1.403529</td>\n",
       "      <td>2015</td>\n",
       "      <td>10</td>\n",
       "      <td>21</td>\n",
       "    </tr>\n",
       "    <tr>\n",
       "      <th>34189</th>\n",
       "      <td>Alagamento</td>\n",
       "      <td>2015-08-02</td>\n",
       "      <td>88a804d86dfffff</td>\n",
       "      <td>POLYGON ((-49.355572751255856 -25.503956849950...</td>\n",
       "      <td>96.0</td>\n",
       "      <td>920.290698</td>\n",
       "      <td>0.000000</td>\n",
       "      <td>0.000000</td>\n",
       "      <td>0.294974</td>\n",
       "      <td>2015</td>\n",
       "      <td>8</td>\n",
       "      <td>2</td>\n",
       "    </tr>\n",
       "    <tr>\n",
       "      <th>36158</th>\n",
       "      <td>Alagamento</td>\n",
       "      <td>2017-12-22</td>\n",
       "      <td>88a804d905fffff</td>\n",
       "      <td>POLYGON ((-49.309048293845166 -25.478700437163...</td>\n",
       "      <td>100.0</td>\n",
       "      <td>915.345455</td>\n",
       "      <td>41.254045</td>\n",
       "      <td>9.868296</td>\n",
       "      <td>25.355981</td>\n",
       "      <td>2017</td>\n",
       "      <td>12</td>\n",
       "      <td>22</td>\n",
       "    </tr>\n",
       "    <tr>\n",
       "      <th>36159</th>\n",
       "      <td>Alagamento</td>\n",
       "      <td>2017-12-23</td>\n",
       "      <td>88a804d905fffff</td>\n",
       "      <td>POLYGON ((-49.309048293845166 -25.478700437163...</td>\n",
       "      <td>100.0</td>\n",
       "      <td>915.345455</td>\n",
       "      <td>4.402516</td>\n",
       "      <td>51.122341</td>\n",
       "      <td>51.050135</td>\n",
       "      <td>2017</td>\n",
       "      <td>12</td>\n",
       "      <td>23</td>\n",
       "    </tr>\n",
       "    <tr>\n",
       "      <th>...</th>\n",
       "      <td>...</td>\n",
       "      <td>...</td>\n",
       "      <td>...</td>\n",
       "      <td>...</td>\n",
       "      <td>...</td>\n",
       "      <td>...</td>\n",
       "      <td>...</td>\n",
       "      <td>...</td>\n",
       "      <td>...</td>\n",
       "      <td>...</td>\n",
       "      <td>...</td>\n",
       "      <td>...</td>\n",
       "    </tr>\n",
       "    <tr>\n",
       "      <th>400637</th>\n",
       "      <td>Alagamento</td>\n",
       "      <td>2016-08-20</td>\n",
       "      <td>88a831adb1fffff</td>\n",
       "      <td>POLYGON ((-49.2122644072129 -25.49699169415437...</td>\n",
       "      <td>99.5</td>\n",
       "      <td>892.905660</td>\n",
       "      <td>56.589717</td>\n",
       "      <td>51.774454</td>\n",
       "      <td>63.194167</td>\n",
       "      <td>2016</td>\n",
       "      <td>8</td>\n",
       "      <td>20</td>\n",
       "    </tr>\n",
       "    <tr>\n",
       "      <th>401746</th>\n",
       "      <td>Alagamento</td>\n",
       "      <td>2016-09-02</td>\n",
       "      <td>88a831adbbfffff</td>\n",
       "      <td>POLYGON ((-49.2214295394814 -25.49788388919803...</td>\n",
       "      <td>99.5</td>\n",
       "      <td>878.187500</td>\n",
       "      <td>0.204890</td>\n",
       "      <td>12.220728</td>\n",
       "      <td>12.285600</td>\n",
       "      <td>2016</td>\n",
       "      <td>9</td>\n",
       "      <td>2</td>\n",
       "    </tr>\n",
       "    <tr>\n",
       "      <th>422618</th>\n",
       "      <td>Alagamento</td>\n",
       "      <td>2016-10-20</td>\n",
       "      <td>88a831ae95fffff</td>\n",
       "      <td>POLYGON ((-49.3119299050174 -25.56199807088341...</td>\n",
       "      <td>98.0</td>\n",
       "      <td>920.306306</td>\n",
       "      <td>29.058548</td>\n",
       "      <td>81.846152</td>\n",
       "      <td>123.845441</td>\n",
       "      <td>2016</td>\n",
       "      <td>10</td>\n",
       "      <td>20</td>\n",
       "    </tr>\n",
       "    <tr>\n",
       "      <th>424404</th>\n",
       "      <td>Alagamento</td>\n",
       "      <td>2015-09-10</td>\n",
       "      <td>88a831ae9bfffff</td>\n",
       "      <td>POLYGON ((-49.330254284209296 -25.563764979069...</td>\n",
       "      <td>99.5</td>\n",
       "      <td>893.704918</td>\n",
       "      <td>19.291447</td>\n",
       "      <td>49.208366</td>\n",
       "      <td>74.716444</td>\n",
       "      <td>2015</td>\n",
       "      <td>9</td>\n",
       "      <td>10</td>\n",
       "    </tr>\n",
       "    <tr>\n",
       "      <th>439886</th>\n",
       "      <td>Alagamento</td>\n",
       "      <td>2016-01-26</td>\n",
       "      <td>88a831aedbfffff</td>\n",
       "      <td>POLYGON ((-49.3309753796436 -25.58457331210153...</td>\n",
       "      <td>97.0</td>\n",
       "      <td>891.627451</td>\n",
       "      <td>11.790933</td>\n",
       "      <td>4.065427</td>\n",
       "      <td>7.964830</td>\n",
       "      <td>2016</td>\n",
       "      <td>1</td>\n",
       "      <td>26</td>\n",
       "    </tr>\n",
       "  </tbody>\n",
       "</table>\n",
       "<p>153 rows × 12 columns</p>\n",
       "</div>"
      ],
      "text/plain": [
       "           flooded       date              hex  \\\n",
       "9062    Alagamento 2015-10-22  88a804cb41fffff   \n",
       "13445   Alagamento 2015-10-21  88a804cb49fffff   \n",
       "34189   Alagamento 2015-08-02  88a804d86dfffff   \n",
       "36158   Alagamento 2017-12-22  88a804d905fffff   \n",
       "36159   Alagamento 2017-12-23  88a804d905fffff   \n",
       "...            ...        ...              ...   \n",
       "400637  Alagamento 2016-08-20  88a831adb1fffff   \n",
       "401746  Alagamento 2016-09-02  88a831adbbfffff   \n",
       "422618  Alagamento 2016-10-20  88a831ae95fffff   \n",
       "424404  Alagamento 2015-09-10  88a831ae9bfffff   \n",
       "439886  Alagamento 2016-01-26  88a831aedbfffff   \n",
       "\n",
       "                                                 geometry  score_elevation  \\\n",
       "9062    POLYGON ((-49.33694002968239 -25.4052233804035...             99.5   \n",
       "13445   POLYGON ((-49.34023347844297 -25.4124704980994...             99.5   \n",
       "34189   POLYGON ((-49.355572751255856 -25.503956849950...             96.0   \n",
       "36158   POLYGON ((-49.309048293845166 -25.478700437163...            100.0   \n",
       "36159   POLYGON ((-49.309048293845166 -25.478700437163...            100.0   \n",
       "...                                                   ...              ...   \n",
       "400637  POLYGON ((-49.2122644072129 -25.49699169415437...             99.5   \n",
       "401746  POLYGON ((-49.2214295394814 -25.49788388919803...             99.5   \n",
       "422618  POLYGON ((-49.3119299050174 -25.56199807088341...             98.0   \n",
       "424404  POLYGON ((-49.330254284209296 -25.563764979069...             99.5   \n",
       "439886  POLYGON ((-49.3309753796436 -25.58457331210153...             97.0   \n",
       "\n",
       "         elevation  value_precipitation  value_precipitation_3_days  \\\n",
       "9062    967.049180            60.544994                   52.215987   \n",
       "13445   953.672131            59.109061                    0.000000   \n",
       "34189   920.290698             0.000000                    0.000000   \n",
       "36158   915.345455            41.254045                    9.868296   \n",
       "36159   915.345455             4.402516                   51.122341   \n",
       "...            ...                  ...                         ...   \n",
       "400637  892.905660            56.589717                   51.774454   \n",
       "401746  878.187500             0.204890                   12.220728   \n",
       "422618  920.306306            29.058548                   81.846152   \n",
       "424404  893.704918            19.291447                   49.208366   \n",
       "439886  891.627451            11.790933                    4.065427   \n",
       "\n",
       "        value_precipitation_7_days  year  month  day  \n",
       "9062                     54.987237  2015     10   22  \n",
       "13445                     1.403529  2015     10   21  \n",
       "34189                     0.294974  2015      8    2  \n",
       "36158                    25.355981  2017     12   22  \n",
       "36159                    51.050135  2017     12   23  \n",
       "...                            ...   ...    ...  ...  \n",
       "400637                   63.194167  2016      8   20  \n",
       "401746                   12.285600  2016      9    2  \n",
       "422618                  123.845441  2016     10   20  \n",
       "424404                   74.716444  2015      9   10  \n",
       "439886                    7.964830  2016      1   26  \n",
       "\n",
       "[153 rows x 12 columns]"
      ]
     },
     "execution_count": 99,
     "metadata": {},
     "output_type": "execute_result"
    }
   ],
   "source": [
    "df_merged[df_merged[\"flooded\"] == \"Alagamento\"]"
   ]
  },
  {
   "attachments": {},
   "cell_type": "markdown",
   "metadata": {},
   "source": [
    "Rodar modelo de classificação"
   ]
  },
  {
   "cell_type": "code",
   "execution_count": null,
   "metadata": {},
   "outputs": [],
   "source": [
    "import pandas as pd\n",
    "import geopandas as gpd\n",
    "from sklearn.tree import DecisionTreeClassifier\n",
    "from sklearn.model_selection import train_test_split\n",
    "\n",
    "features = ['elevation', 'score_elevation', 'value_precipitation', 'value_precipitation_3_days', 'value_precipitation_7_days', \"date\"]\n",
    "target = 'flooded'\n",
    "\n",
    "# Dividir os dados em conjunto de treinamento e teste\n",
    "X_train, X_test, y_train, y_test = train_test_split(df_merged[features], df_merged[target], test_size=0.2, random_state=42)\n",
    "\n",
    "# Criar e treinar a árvore de decisão\n",
    "clf = DecisionTreeClassifier()\n",
    "clf.fit(X_train, y_train)\n",
    "\n",
    "# Avaliar o desempenho do modelo no conjunto de teste\n",
    "score = clf.score(X_test, y_test)\n",
    "print(\"Acurácia do modelo:\", score)\n"
   ]
  },
  {
   "cell_type": "code",
   "execution_count": 101,
   "metadata": {},
   "outputs": [],
   "source": [
    "features_elevation = ['elevation', 'score_elevation']\n",
    "features_precipitation = ['value_precipitation', 'value_precipitation_3_days', 'value_precipitation_7_days']\n",
    "date = [\"year\", \"month\", \"day\"]"
   ]
  },
  {
   "cell_type": "code",
   "execution_count": 102,
   "metadata": {},
   "outputs": [],
   "source": [
    "features = df_merged[features_elevation+features_precipitation+date]\n",
    "target = df_merged[['flooded']]"
   ]
  },
  {
   "cell_type": "code",
   "execution_count": 107,
   "metadata": {},
   "outputs": [],
   "source": [
    "train_features, test_features, train_labels, test_labels = train_test_split(features, target, test_size=0.2)"
   ]
  },
  {
   "cell_type": "code",
   "execution_count": 104,
   "metadata": {},
   "outputs": [
    {
     "name": "stderr",
     "output_type": "stream",
     "text": [
      "/var/folders/ld/8dhf4gy93xbd1ybmf6nljm38dn1p1r/T/ipykernel_24491/2852299628.py:2: DataConversionWarning: A column-vector y was passed when a 1d array was expected. Please change the shape of y to (n_samples,), for example using ravel().\n",
      "  rf.fit(train_features, train_labels)\n"
     ]
    },
    {
     "data": {
      "text/html": [
       "<style>#sk-container-id-4 {color: black;background-color: white;}#sk-container-id-4 pre{padding: 0;}#sk-container-id-4 div.sk-toggleable {background-color: white;}#sk-container-id-4 label.sk-toggleable__label {cursor: pointer;display: block;width: 100%;margin-bottom: 0;padding: 0.3em;box-sizing: border-box;text-align: center;}#sk-container-id-4 label.sk-toggleable__label-arrow:before {content: \"▸\";float: left;margin-right: 0.25em;color: #696969;}#sk-container-id-4 label.sk-toggleable__label-arrow:hover:before {color: black;}#sk-container-id-4 div.sk-estimator:hover label.sk-toggleable__label-arrow:before {color: black;}#sk-container-id-4 div.sk-toggleable__content {max-height: 0;max-width: 0;overflow: hidden;text-align: left;background-color: #f0f8ff;}#sk-container-id-4 div.sk-toggleable__content pre {margin: 0.2em;color: black;border-radius: 0.25em;background-color: #f0f8ff;}#sk-container-id-4 input.sk-toggleable__control:checked~div.sk-toggleable__content {max-height: 200px;max-width: 100%;overflow: auto;}#sk-container-id-4 input.sk-toggleable__control:checked~label.sk-toggleable__label-arrow:before {content: \"▾\";}#sk-container-id-4 div.sk-estimator input.sk-toggleable__control:checked~label.sk-toggleable__label {background-color: #d4ebff;}#sk-container-id-4 div.sk-label input.sk-toggleable__control:checked~label.sk-toggleable__label {background-color: #d4ebff;}#sk-container-id-4 input.sk-hidden--visually {border: 0;clip: rect(1px 1px 1px 1px);clip: rect(1px, 1px, 1px, 1px);height: 1px;margin: -1px;overflow: hidden;padding: 0;position: absolute;width: 1px;}#sk-container-id-4 div.sk-estimator {font-family: monospace;background-color: #f0f8ff;border: 1px dotted black;border-radius: 0.25em;box-sizing: border-box;margin-bottom: 0.5em;}#sk-container-id-4 div.sk-estimator:hover {background-color: #d4ebff;}#sk-container-id-4 div.sk-parallel-item::after {content: \"\";width: 100%;border-bottom: 1px solid gray;flex-grow: 1;}#sk-container-id-4 div.sk-label:hover label.sk-toggleable__label {background-color: #d4ebff;}#sk-container-id-4 div.sk-serial::before {content: \"\";position: absolute;border-left: 1px solid gray;box-sizing: border-box;top: 0;bottom: 0;left: 50%;z-index: 0;}#sk-container-id-4 div.sk-serial {display: flex;flex-direction: column;align-items: center;background-color: white;padding-right: 0.2em;padding-left: 0.2em;position: relative;}#sk-container-id-4 div.sk-item {position: relative;z-index: 1;}#sk-container-id-4 div.sk-parallel {display: flex;align-items: stretch;justify-content: center;background-color: white;position: relative;}#sk-container-id-4 div.sk-item::before, #sk-container-id-4 div.sk-parallel-item::before {content: \"\";position: absolute;border-left: 1px solid gray;box-sizing: border-box;top: 0;bottom: 0;left: 50%;z-index: -1;}#sk-container-id-4 div.sk-parallel-item {display: flex;flex-direction: column;z-index: 1;position: relative;background-color: white;}#sk-container-id-4 div.sk-parallel-item:first-child::after {align-self: flex-end;width: 50%;}#sk-container-id-4 div.sk-parallel-item:last-child::after {align-self: flex-start;width: 50%;}#sk-container-id-4 div.sk-parallel-item:only-child::after {width: 0;}#sk-container-id-4 div.sk-dashed-wrapped {border: 1px dashed gray;margin: 0 0.4em 0.5em 0.4em;box-sizing: border-box;padding-bottom: 0.4em;background-color: white;}#sk-container-id-4 div.sk-label label {font-family: monospace;font-weight: bold;display: inline-block;line-height: 1.2em;}#sk-container-id-4 div.sk-label-container {text-align: center;}#sk-container-id-4 div.sk-container {/* jupyter's `normalize.less` sets `[hidden] { display: none; }` but bootstrap.min.css set `[hidden] { display: none !important; }` so we also need the `!important` here to be able to override the default hidden behavior on the sphinx rendered scikit-learn.org. See: https://github.com/scikit-learn/scikit-learn/issues/21755 */display: inline-block !important;position: relative;}#sk-container-id-4 div.sk-text-repr-fallback {display: none;}</style><div id=\"sk-container-id-4\" class=\"sk-top-container\"><div class=\"sk-text-repr-fallback\"><pre>RandomForestClassifier()</pre><b>In a Jupyter environment, please rerun this cell to show the HTML representation or trust the notebook. <br />On GitHub, the HTML representation is unable to render, please try loading this page with nbviewer.org.</b></div><div class=\"sk-container\" hidden><div class=\"sk-item\"><div class=\"sk-estimator sk-toggleable\"><input class=\"sk-toggleable__control sk-hidden--visually\" id=\"sk-estimator-id-4\" type=\"checkbox\" checked><label for=\"sk-estimator-id-4\" class=\"sk-toggleable__label sk-toggleable__label-arrow\">RandomForestClassifier</label><div class=\"sk-toggleable__content\"><pre>RandomForestClassifier()</pre></div></div></div></div></div>"
      ],
      "text/plain": [
       "RandomForestClassifier()"
      ]
     },
     "execution_count": 104,
     "metadata": {},
     "output_type": "execute_result"
    }
   ],
   "source": [
    "rf = RandomForestClassifier()\n",
    "rf.fit(train_features, train_labels)"
   ]
  },
  {
   "cell_type": "code",
   "execution_count": 105,
   "metadata": {},
   "outputs": [],
   "source": [
    "predictions = rf.predict(test_features)"
   ]
  },
  {
   "cell_type": "code",
   "execution_count": 106,
   "metadata": {},
   "outputs": [
    {
     "name": "stdout",
     "output_type": "stream",
     "text": [
      "Accuracy: 0.9996421926434808\n",
      "Recall for nothing: 1.0\n",
      "Recall for flooded: 0.0\n",
      "[[     0     80]\n",
      " [     0 223504]]\n"
     ]
    }
   ],
   "source": [
    "print(\"Accuracy: \" + str(accuracy_score(test_labels, predictions)))\n",
    "print(\"Recall for nothing: \" + str(recall_score(test_labels, predictions, average=\"binary\", pos_label=\"Nenhum\")))\n",
    "print(\"Recall for flooded: \" + str(recall_score(test_labels, predictions, average=\"binary\", pos_label=\"Alagamento\")))\n",
    "print(confusion_matrix(test_labels, predictions))"
   ]
  },
  {
   "cell_type": "code",
   "execution_count": 108,
   "metadata": {},
   "outputs": [
    {
     "name": "stdout",
     "output_type": "stream",
     "text": [
      "Len: 223584\n",
      "Len alagamentos: 0\n",
      "Len nenhum: 223584\n"
     ]
    }
   ],
   "source": [
    "print(\"Len: \" + str(len(predictions)))\n",
    "alagamentos = []\n",
    "nenhum = []\n",
    "for f in predictions:\n",
    "    if f == \"Nenhum\":\n",
    "        nenhum.append(f)\n",
    "    if f == \"Alagamento\":\n",
    "        alagamentos.append(f)\n",
    "\n",
    "print(\"Len alagamentos: \" + str(len(alagamentos)))\n",
    "print(\"Len nenhum: \" + str(len(nenhum)))"
   ]
  },
  {
   "attachments": {},
   "cell_type": "markdown",
   "metadata": {},
   "source": [
    "Verificar a porcentagem de flooded"
   ]
  },
  {
   "cell_type": "code",
   "execution_count": 115,
   "metadata": {},
   "outputs": [
    {
     "name": "stdout",
     "output_type": "stream",
     "text": [
      "Alagamentos: 153\n",
      "Nenhum: 447015\n",
      "Porcentagem: 0.034215328467153285%\n"
     ]
    }
   ],
   "source": [
    "\n",
    "total_alagamentos = len(df_merged[df_merged['flooded'] == \"Alagamento\"])\n",
    "total_nenhum = len(df_merged[df_merged['flooded'] == \"Nenhum\"])\n",
    "\n",
    "print(\"Alagamentos: \" + str(total_alagamentos))\n",
    "print(\"Nenhum: \" + str(total_nenhum))\n",
    "print(\"Porcentagem: \" + str(100*total_alagamentos/(total_alagamentos+total_nenhum)) + \"%\")"
   ]
  }
 ],
 "metadata": {
  "kernelspec": {
   "display_name": "Python 3",
   "language": "python",
   "name": "python3"
  },
  "language_info": {
   "codemirror_mode": {
    "name": "ipython",
    "version": 3
   },
   "file_extension": ".py",
   "mimetype": "text/x-python",
   "name": "python",
   "nbconvert_exporter": "python",
   "pygments_lexer": "ipython3",
   "version": "3.10.6"
  },
  "orig_nbformat": 4
 },
 "nbformat": 4,
 "nbformat_minor": 2
}
